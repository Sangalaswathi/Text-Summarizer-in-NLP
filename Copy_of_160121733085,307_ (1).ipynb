{
  "cells": [
    {
      "cell_type": "code",
      "execution_count": null,
      "metadata": {
        "id": "4Uaw1p4soV_R"
      },
      "outputs": [],
      "source": [
        "import nltk"
      ]
    },
    {
      "cell_type": "code",
      "execution_count": null,
      "metadata": {
        "colab": {
          "base_uri": "https://localhost:8080/"
        },
        "id": "2mJqxL1Iojm_",
        "outputId": "7366a9ef-48aa-4068-ce80-f26e602e5502"
      },
      "outputs": [
        {
          "output_type": "stream",
          "name": "stderr",
          "text": [
            "[nltk_data] Downloading package punkt to /root/nltk_data...\n",
            "[nltk_data]   Unzipping tokenizers/punkt.zip.\n"
          ]
        },
        {
          "output_type": "stream",
          "name": "stdout",
          "text": [
            "Summary:\n",
            "Under his captaincy, India has reached several milestones including becoming the number-one team in Test cricket and reaching the final of the 2017 ICC Champions Trophy. He has also been honoured with several awards for his performances including the Sir Garfield Sobers Trophy for ICC ODI Player of the Year in 2017 and 2018. In 2013, he was appointed as the vice-captain of the ODI team and became the captain of the team in 2017.\n"
          ]
        },
        {
          "output_type": "stream",
          "name": "stderr",
          "text": [
            "[nltk_data] Downloading package stopwords to /root/nltk_data...\n",
            "[nltk_data]   Unzipping corpora/stopwords.zip.\n"
          ]
        }
      ],
      "source": [
        "import nltk\n",
        "from nltk.tokenize import sent_tokenize, word_tokenize\n",
        "from nltk.corpus import stopwords\n",
        "from collections import Counter\n",
        "\n",
        "nltk.download('punkt')\n",
        "nltk.download('stopwords')\n",
        "\n",
        "def text_summarizer(text, num_sentences=3):\n",
        "    # Tokenize the text into sentences\n",
        "    sentences = sent_tokenize(text)\n",
        "\n",
        "    # Tokenize each sentence into words\n",
        "    words = [word_tokenize(sentence.lower()) for sentence in sentences]\n",
        "\n",
        "    # Remove stopwords\n",
        "    stop_words = set(stopwords.words('english'))\n",
        "    filtered_words = []\n",
        "    for sentence in words:\n",
        "        filtered_words.append([word for word in sentence if word not in stop_words])\n",
        "\n",
        "    # Flatten the list of words\n",
        "    flattened_words = [word for sublist in filtered_words for word in sublist]\n",
        "\n",
        "    # Calculate word frequency\n",
        "    word_freq = Counter(flattened_words)\n",
        "\n",
        "    # Calculate sentence scores based on word frequency\n",
        "    sentence_scores = {sentence: sum(word_freq[word] for word in word_tokenize(sentence.lower()))\n",
        "                       for sentence in sentences}\n",
        "\n",
        "    # Sort sentences by score and select the top ones\n",
        "    top_sentences = sorted(sentence_scores, key=sentence_scores.get, reverse=True)[:num_sentences]\n",
        "\n",
        "    # Join the top sentences to form the summary\n",
        "    summary = ' '.join(top_sentences)\n",
        "\n",
        "    return summary\n",
        "\n",
        "if __name__ == \"__main__\":\n",
        "    # Example text\n",
        "    text = \"\"\"\n",
        "    Virat Kohli is an Indian cricketer and former captain of the Indian national team. He is considered one of the best batsmen in the world and holds several records in cricket. He made his international debut in 2008 and has since then represented India in all three formats of the game. He has been a consistent performer for India and has been the backbone of the Indian batting line-up. In 2013, he was appointed as the vice-captain of the ODI team and became the captain of the team in 2017. Under his captaincy, India has reached several milestones including becoming the number-one team in Test cricket and reaching the final of the 2017 ICC Champions Trophy. He has also been honoured with several awards for his performances including the Sir Garfield Sobers Trophy for ICC ODI Player of the Year in 2017 and 2018. He is known for his aggressive captaincy and his never-say-die attitude on the field.\n",
        "    \"\"\"\n",
        "\n",
        "    # Generate summary\n",
        "    summary = text_summarizer(text)\n",
        "    print(\"Summary:\")\n",
        "    print(summary)\n"
      ]
    },
    {
      "cell_type": "code",
      "execution_count": null,
      "metadata": {
        "colab": {
          "base_uri": "https://localhost:8080/"
        },
        "id": "BFU1xkF4qcCG",
        "outputId": "367744bc-ae1b-49b5-fd8d-aebe50ddc803"
      },
      "outputs": [
        {
          "output_type": "stream",
          "name": "stderr",
          "text": [
            "[nltk_data] Downloading package punkt to /root/nltk_data...\n",
            "[nltk_data]   Package punkt is already up-to-date!\n"
          ]
        },
        {
          "output_type": "execute_result",
          "data": {
            "text/plain": [
              "True"
            ]
          },
          "metadata": {},
          "execution_count": 3
        }
      ],
      "source": [
        "import nltk\n",
        "nltk.download('punkt')\n"
      ]
    },
    {
      "cell_type": "code",
      "execution_count": null,
      "metadata": {
        "colab": {
          "base_uri": "https://localhost:8080/"
        },
        "id": "9Akqz2AwqkTF",
        "outputId": "0b1ba98e-28c8-45e7-9700-2a2086e2943f"
      },
      "outputs": [
        {
          "output_type": "stream",
          "name": "stdout",
          "text": [
            "Summary:\n",
            "Under his captaincy, India has reached several milestones including becoming the number-one team in Test cricket and reaching the final of the 2017 ICC Champions Trophy. He has also been honoured with several awards for his performances including the Sir Garfield Sobers Trophy for ICC ODI Player of the Year in 2017 and 2018.\n"
          ]
        }
      ],
      "source": [
        "import nltk\n",
        "from nltk.tokenize import sent_tokenize, word_tokenize\n",
        "from nltk.corpus import stopwords\n",
        "from nltk.probability import FreqDist\n",
        "\n",
        "# Sample text\n",
        "text = \"\"\"\n",
        " Virat Kohli is an Indian cricketer and former captain of the Indian national team. He is considered one of the best batsmen in the world and holds several records in cricket. He made his international debut in 2008 and has since then represented India in all three formats of the game. He has been a consistent performer for India and has been the backbone of the Indian batting line-up. In 2013, he was appointed as the vice-captain of the ODI team and became the captain of the team in 2017. Under his captaincy, India has reached several milestones including becoming the number-one team in Test cricket and reaching the final of the 2017 ICC Champions Trophy. He has also been honoured with several awards for his performances including the Sir Garfield Sobers Trophy for ICC ODI Player of the Year in 2017 and 2018. He is known for his aggressive captaincy and his never-say-die attitude on the field.\n",
        "\"\"\"\n",
        "\n",
        "# Tokenize the text into sentences\n",
        "sentences = sent_tokenize(text)\n",
        "\n",
        "# Tokenize each sentence into words\n",
        "words = [word_tokenize(sentence.lower()) for sentence in sentences]\n",
        "\n",
        "# Remove stopwords\n",
        "stop_words = set(stopwords.words('english'))\n",
        "filtered_words = []\n",
        "for sentence in words:\n",
        "    filtered_words.append([word for word in sentence if word not in stop_words])\n",
        "\n",
        "# Flatten the list of words\n",
        "flattened_words = [word for sublist in filtered_words for word in sublist]\n",
        "\n",
        "# Calculate word frequency\n",
        "word_freq = FreqDist(flattened_words)\n",
        "\n",
        "# Calculate sentence scores based on word frequency\n",
        "sentence_scores = {sentence: sum(word_freq[word] for word in word_tokenize(sentence.lower()))\n",
        "                   for sentence in sentences}\n",
        "\n",
        "# Sort sentences by score and select the top ones\n",
        "num_sentences = 2  # Number of sentences in the summary\n",
        "top_sentences = sorted(sentence_scores, key=sentence_scores.get, reverse=True)[:num_sentences]\n",
        "\n",
        "# Join the top sentences to form the summary\n",
        "summary = ' '.join(top_sentences)\n",
        "\n",
        "# Print the summary\n",
        "print(\"Summary:\")\n",
        "print(summary)\n"
      ]
    },
    {
      "cell_type": "code",
      "execution_count": null,
      "metadata": {
        "id": "F3TTspYpCk3U"
      },
      "outputs": [],
      "source": [
        "from nltk.corpus import stopwords\n",
        "from nltk.tokenize import word_tokenize,sent_tokenize"
      ]
    },
    {
      "cell_type": "code",
      "execution_count": null,
      "metadata": {
        "colab": {
          "base_uri": "https://localhost:8080/"
        },
        "id": "KeyJ_Z_gC-gQ",
        "outputId": "bb222359-6b17-4e52-b2bf-8bd9585313c3"
      },
      "outputs": [
        {
          "output_type": "stream",
          "name": "stderr",
          "text": [
            "[nltk_data] Downloading package stopwords to /root/nltk_data...\n",
            "[nltk_data]   Package stopwords is already up-to-date!\n",
            "[nltk_data] Downloading package punkt to /root/nltk_data...\n",
            "[nltk_data]   Package punkt is already up-to-date!\n"
          ]
        },
        {
          "output_type": "execute_result",
          "data": {
            "text/plain": [
              "True"
            ]
          },
          "metadata": {},
          "execution_count": 6
        }
      ],
      "source": [
        "import nltk\n",
        "nltk.download('stopwords')\n",
        "nltk.download('punkt')\n"
      ]
    },
    {
      "cell_type": "code",
      "execution_count": null,
      "metadata": {
        "id": "so8Y0sBADXXT"
      },
      "outputs": [],
      "source": [
        "text = \"\"\"Virat Kohli is an Indian cricketer and former captain of the Indian national team. He is considered one of the best batsmen in the world and holds several records in cricket. He made his international debut in 2008 and has since then represented India in all three formats of the game. He has been a consistent performer for India and has been the backbone of the Indian batting line-up. In 2013, he was appointed as the vice-captain of the ODI team and became the captain of the team in 2017. Under his captaincy, India has reached several milestones including becoming the number-one team in Test cricket and reaching the final of the 2017 ICC Champions Trophy. He has also been honoured with several awards for his performances including the Sir Garfield Sobers Trophy for ICC ODI Player of the Year in 2017 and 2018. He is known for his aggressive captaincy and his never-say-die attitude on the field.\"\"\""
      ]
    },
    {
      "cell_type": "code",
      "execution_count": null,
      "metadata": {
        "colab": {
          "base_uri": "https://localhost:8080/"
        },
        "id": "1OVu0yh0DfgD",
        "outputId": "9796d42d-5513-4a22-d436-bfe4ccb17d2f"
      },
      "outputs": [
        {
          "output_type": "stream",
          "name": "stderr",
          "text": [
            "[nltk_data] Downloading package stopwords to /root/nltk_data...\n",
            "[nltk_data]   Package stopwords is already up-to-date!\n"
          ]
        }
      ],
      "source": [
        "import nltk\n",
        "nltk.download('stopwords')\n",
        "from nltk.corpus import stopwords\n",
        "\n",
        "# Assuming you're using English stopwords\n",
        "stopwords_en = set(stopwords.words('english'))"
      ]
    },
    {
      "cell_type": "code",
      "source": [
        "from nltk.corpus import stopwords\n",
        "from nltk.tokenize import word_tokenize\n",
        "\n",
        "# Assuming you have some text stored in the variable 'text'\n",
        "text = \" Virat Kohli is an Indian cricketer and former captain of the Indian national team. He is considered one of the best batsmen in the world and holds several records in cricket. He made his international debut in 2008 and has since then represented India in all three formats of the game. He has been a consistent performer for India and has been the backbone of the Indian batting line-up. In 2013, he was appointed as the vice-captain of the ODI team and became the captain of the team in 2017. Under his captaincy, India has reached several milestones including becoming the number-one team in Test cricket and reaching the final of the 2017 ICC Champions Trophy. He has also been honoured with several awards for his performances including the Sir Garfield Sobers Trophy for ICC ODI Player of the Year in 2017 and 2018. He is known for his aggressive captaincy and his never-say-die attitude on the field\"\n",
        "\n",
        "\n",
        "# Tokenize the text into words\n",
        "words = word_tokenize(text)\n",
        "\n",
        "# Load English stopwords\n",
        "stopwords_en = set(stopwords.words('english'))\n",
        "\n",
        "# Remove stopwords from the text\n",
        "filtered_words = [word for word in words if word.lower() not in stopwords_en]\n",
        "\n",
        "# Join the filtered words back into a sentence\n",
        "filtered_text = ' '.join(filtered_words)\n",
        "\n",
        "print(\"Original text:\")\n",
        "print(text)\n",
        "print(\"\\nText after removing stopwords:\")\n",
        "print(filtered_text)\n"
      ],
      "metadata": {
        "colab": {
          "base_uri": "https://localhost:8080/"
        },
        "id": "kp3rWxBhlygf",
        "outputId": "1b5f73e2-7d99-4816-ea12-51fcfa52a105"
      },
      "execution_count": null,
      "outputs": [
        {
          "output_type": "stream",
          "name": "stdout",
          "text": [
            "Original text:\n",
            " Virat Kohli is an Indian cricketer and former captain of the Indian national team. He is considered one of the best batsmen in the world and holds several records in cricket. He made his international debut in 2008 and has since then represented India in all three formats of the game. He has been a consistent performer for India and has been the backbone of the Indian batting line-up. In 2013, he was appointed as the vice-captain of the ODI team and became the captain of the team in 2017. Under his captaincy, India has reached several milestones including becoming the number-one team in Test cricket and reaching the final of the 2017 ICC Champions Trophy. He has also been honoured with several awards for his performances including the Sir Garfield Sobers Trophy for ICC ODI Player of the Year in 2017 and 2018. He is known for his aggressive captaincy and his never-say-die attitude on the field\n",
            "\n",
            "Text after removing stopwords:\n",
            "Virat Kohli Indian cricketer former captain Indian national team . considered one best batsmen world holds several records cricket . made international debut 2008 since represented India three formats game . consistent performer India backbone Indian batting line-up . 2013 , appointed vice-captain ODI team became captain team 2017 . captaincy , India reached several milestones including becoming number-one team Test cricket reaching final 2017 ICC Champions Trophy . also honoured several awards performances including Sir Garfield Sobers Trophy ICC ODI Player Year 2017 2018 . known aggressive captaincy never-say-die attitude field\n"
          ]
        }
      ]
    },
    {
      "cell_type": "code",
      "execution_count": null,
      "metadata": {
        "colab": {
          "base_uri": "https://localhost:8080/"
        },
        "id": "5jy30wM7EOey",
        "outputId": "5bbbb9e7-b0a3-45b6-9fdc-ca7bfb482692"
      },
      "outputs": [
        {
          "output_type": "stream",
          "name": "stdout",
          "text": [
            "['Virat', 'Kohli', 'is', 'an', 'Indian', 'cricketer', 'and', 'former', 'captain', 'of', 'the', 'Indian', 'national', 'team', '.', 'He', 'is', 'considered', 'one', 'of', 'the', 'best', 'batsmen', 'in', 'the', 'world', 'and', 'holds', 'several', 'records', 'in', 'cricket', '.', 'He', 'made', 'his', 'international', 'debut', 'in', '2008', 'and', 'has', 'since', 'then', 'represented', 'India', 'in', 'all', 'three', 'formats', 'of', 'the', 'game', '.', 'He', 'has', 'been', 'a', 'consistent', 'performer', 'for', 'India', 'and', 'has', 'been', 'the', 'backbone', 'of', 'the', 'Indian', 'batting', 'line-up', '.', 'In', '2013', ',', 'he', 'was', 'appointed', 'as', 'the', 'vice-captain', 'of', 'the', 'ODI', 'team', 'and', 'became', 'the', 'captain', 'of', 'the', 'team', 'in', '2017', '.', 'Under', 'his', 'captaincy', ',', 'India', 'has', 'reached', 'several', 'milestones', 'including', 'becoming', 'the', 'number-one', 'team', 'in', 'Test', 'cricket', 'and', 'reaching', 'the', 'final', 'of', 'the', '2017', 'ICC', 'Champions', 'Trophy', '.', 'He', 'has', 'also', 'been', 'honoured', 'with', 'several', 'awards', 'for', 'his', 'performances', 'including', 'the', 'Sir', 'Garfield', 'Sobers', 'Trophy', 'for', 'ICC', 'ODI', 'Player', 'of', 'the', 'Year', 'in', '2017', 'and', '2018', '.', 'He', 'is', 'known', 'for', 'his', 'aggressive', 'captaincy', 'and', 'his', 'never-say-die', 'attitude', 'on', 'the', 'field']\n"
          ]
        }
      ],
      "source": [
        "words = word_tokenize(text)\n",
        "print(words)"
      ]
    },
    {
      "cell_type": "code",
      "execution_count": null,
      "metadata": {
        "id": "ATlXbbLFExiq"
      },
      "outputs": [],
      "source": [
        "freqTable = dict()"
      ]
    },
    {
      "cell_type": "code",
      "execution_count": null,
      "metadata": {
        "colab": {
          "base_uri": "https://localhost:8080/"
        },
        "id": "4-PMNmmzG5Jp",
        "outputId": "a39d3a26-2ee4-4738-9a37-b3ff3971b03a"
      },
      "outputs": [
        {
          "output_type": "stream",
          "name": "stdout",
          "text": [
            "{'virat': 1, 'kohli': 1, 'indian': 3, 'cricketer': 1, 'former': 1, 'captain': 2, 'national': 1, 'team': 4, '.': 7, 'considered': 1, 'one': 1, 'best': 1, 'batsmen': 1, 'world': 1, 'holds': 1, 'several': 3, 'records': 1, 'cricket': 2, 'made': 1, 'international': 1, 'debut': 1, '2008': 1, 'since': 1, 'represented': 1, 'india': 3, 'three': 1, 'formats': 1, 'game': 1, 'consistent': 1, 'performer': 1, 'backbone': 1, 'batting': 1, 'line-up': 1, '2013': 1, ',': 2, 'appointed': 1, 'vice-captain': 1, 'odi': 2, 'became': 1, '2017': 3, 'captaincy': 2, 'reached': 1, 'milestones': 1, 'including': 2, 'becoming': 1, 'number-one': 1, 'test': 1, 'reaching': 1, 'final': 1, 'icc': 2, 'champions': 1, 'trophy': 2, 'also': 1, 'honoured': 1, 'awards': 1, 'performances': 1, 'sir': 1, 'garfield': 1, 'sobers': 1, 'player': 1, 'year': 1, '2018': 1, 'known': 1, 'aggressive': 1, 'never-say-die': 1, 'attitude': 1, 'field': 1}\n"
          ]
        }
      ],
      "source": [
        "\n",
        "\n",
        "freqTable = dict()\n",
        "for word in words:\n",
        "    word = word.lower()\n",
        "    if word in stopwords_en:\n",
        "        continue\n",
        "    if word in freqTable:\n",
        "        freqTable[word] += 1\n",
        "    else:\n",
        "        freqTable[word] = 1\n",
        "\n",
        "print(freqTable)\n"
      ]
    },
    {
      "cell_type": "code",
      "execution_count": null,
      "metadata": {
        "colab": {
          "base_uri": "https://localhost:8080/"
        },
        "id": "GcOOz0_xHnJO",
        "outputId": "c2b66360-c1f4-4318-b97b-72ed441f2834"
      },
      "outputs": [
        {
          "output_type": "stream",
          "name": "stdout",
          "text": [
            "[' Virat Kohli is an Indian cricketer and former captain of the Indian national team.', 'He is considered one of the best batsmen in the world and holds several records in cricket.', 'He made his international debut in 2008 and has since then represented India in all three formats of the game.', 'He has been a consistent performer for India and has been the backbone of the Indian batting line-up.', 'In 2013, he was appointed as the vice-captain of the ODI team and became the captain of the team in 2017.', 'Under his captaincy, India has reached several milestones including becoming the number-one team in Test cricket and reaching the final of the 2017 ICC Champions Trophy.', 'He has also been honoured with several awards for his performances including the Sir Garfield Sobers Trophy for ICC ODI Player of the Year in 2017 and 2018.', 'He is known for his aggressive captaincy and his never-say-die attitude on the field']\n"
          ]
        }
      ],
      "source": [
        "sentences = sent_tokenize(text)\n",
        "print(sentences)"
      ]
    },
    {
      "cell_type": "code",
      "execution_count": null,
      "metadata": {
        "colab": {
          "base_uri": "https://localhost:8080/"
        },
        "id": "hqxQfa5kIDGJ",
        "outputId": "964a7b81-6a5a-4ece-c0f2-3dc19e0da0da"
      },
      "outputs": [
        {
          "output_type": "stream",
          "name": "stdout",
          "text": [
            "{' Virat Kohli is an Indian cricketer and former captain of the Indian national team.': 26, 'He is considered one of the best batsmen in the world and holds several records in cricket.': 19, 'He made his international debut in 2008 and has since then represented India in all three formats of the game.': 20, 'He has been a consistent performer for India and has been the backbone of the Indian batting line-up.': 20, 'In 2013, he was appointed as the vice-captain of the ODI team and became the captain of the team in 2017.': 24, 'Under his captaincy, India has reached several milestones including becoming the number-one team in Test cricket and reaching the final of the 2017 ICC Champions Trophy.': 43, 'He has also been honoured with several awards for his performances including the Sir Garfield Sobers Trophy for ICC ODI Player of the Year in 2017 and 2018.': 32, 'He is known for his aggressive captaincy and his never-say-die attitude on the field': 9}\n"
          ]
        }
      ],
      "source": [
        "def getsentenceValue():\n",
        "  sentenceValue = dict()\n",
        "  for sentence in sentences:\n",
        "    for word, freq in freqTable.items():\n",
        "        if word in sentence.lower():\n",
        "            if sentence in sentenceValue:\n",
        "                sentenceValue[sentence] += freq\n",
        "            else:\n",
        "                sentenceValue [sentence] = freq\n",
        "  return sentenceValue\n",
        "  print(sentenceValue)\n",
        "sentenceValue = getsentenceValue()\n",
        "print(sentenceValue)"
      ]
    },
    {
      "cell_type": "code",
      "execution_count": null,
      "metadata": {
        "colab": {
          "base_uri": "https://localhost:8080/"
        },
        "id": "eIeGhs7rJhVY",
        "outputId": "76a93b14-28fe-4732-cc34-328303a1c31c"
      },
      "outputs": [
        {
          "output_type": "stream",
          "name": "stdout",
          "text": [
            "5.333333333333333\n"
          ]
        }
      ],
      "source": [
        "def get_average_value(sentenceValue):\n",
        "    sum_values = 0\n",
        "    for sentence in sentenceValue:\n",
        "        sum_values += sentenceValue[sentence]\n",
        "    average = sum_values / len(sentenceValue)\n",
        "    return average\n",
        "sentenceValue = {\"sentence1\": 5, \"sentence2\": 8, \"sentence3\": 3}  # Example data\n",
        "\n",
        "average = get_average_value(sentenceValue)\n",
        "print(average)\n"
      ]
    },
    {
      "cell_type": "code",
      "execution_count": null,
      "metadata": {
        "colab": {
          "base_uri": "https://localhost:8080/"
        },
        "id": "BoZjkWXFKHCh",
        "outputId": "547beca3-36b7-44fa-8a12-037e42e2cf1b"
      },
      "outputs": [
        {
          "output_type": "stream",
          "name": "stdout",
          "text": [
            "\n"
          ]
        }
      ],
      "source": [
        "# Assuming sentences, sentenceValue, and average are properly defined\n",
        "summary = ''\n",
        "for sentence in sentences:\n",
        "    if sentence in sentenceValue and sentenceValue[sentence] > (1.4 * average):\n",
        "        summary += \" \" + sentence\n",
        "\n",
        "print(summary)\n"
      ]
    },
    {
      "cell_type": "code",
      "execution_count": null,
      "metadata": {
        "colab": {
          "base_uri": "https://localhost:8080/"
        },
        "id": "a9SHipgnLD_2",
        "outputId": "9cbe7757-b621-4483-ac91-c1e9267f3437"
      },
      "outputs": [
        {
          "output_type": "execute_result",
          "data": {
            "text/plain": [
              "192.0"
            ]
          },
          "metadata": {},
          "execution_count": 17
        }
      ],
      "source": [
        "160*1.2\n"
      ]
    },
    {
      "cell_type": "code",
      "execution_count": null,
      "metadata": {
        "colab": {
          "base_uri": "https://localhost:8080/"
        },
        "id": "HRufrEHYC9LN",
        "outputId": "0cd430e3-ab74-4ae0-bff0-7ece7fbc7ba1"
      },
      "outputs": [
        {
          "output_type": "stream",
          "name": "stdout",
          "text": [
            "Original text length: 158\n",
            "Summary length: 47\n",
            "\n",
            "Summary:\n",
            " Under his captaincy, India has reached several milestones including becoming the number-one team in Test cricket and reaching the final of the 2017 ICC Champions Trophy. In 2013, he was appointed as the vice-captain of the ODI team and became the captain of the team in 2017.\n"
          ]
        }
      ],
      "source": [
        "import spacy\n",
        "from spacy.lang.en.stop_words import STOP_WORDS\n",
        "import string\n",
        "\n",
        "# Define the text\n",
        "text = \"\"\"Virat Kohli is an Indian cricketer and former captain of the Indian national team. He is considered one of the best batsmen in the world and holds several records in cricket. He made his international debut in 2008 and has since then represented India in all three formats of the game. He has been a consistent performer for India and has been the backbone of the Indian batting line-up. In 2013, he was appointed as the vice-captain of the ODI team and became the captain of the team in 2017. Under his captaincy, India has reached several milestones including becoming the number-one team in Test cricket and reaching the final of the 2017 ICC Champions Trophy. He has also been honoured with several awards for his performances including the Sir Garfield Sobers Trophy for ICC ODI Player of the Year in 2017 and 2018. He is known for his aggressive captaincy and his never-say-die attitude on the field..\"\"\"\n",
        "\n",
        "# Load English tokenizer, tagger, parser, NER and word vectors\n",
        "nlp = spacy.load(\"en_core_web_sm\")\n",
        "# Process the text\n",
        "doc = nlp(text)\n",
        "\n",
        "# Define punctuation and stopwords\n",
        "punctuations = string.punctuation\n",
        "stopwords = list(STOP_WORDS)\n",
        "\n",
        "# Word frequency\n",
        "word_freq = {}\n",
        "for word in doc:\n",
        "    if word.text.lower() not in stopwords and word.text.lower() not in punctuations:\n",
        "        if word.text.lower() not in word_freq.keys():\n",
        "            word_freq[word.text.lower()] = 1\n",
        "        else:\n",
        "            word_freq[word.text.lower()] += 1\n",
        "\n",
        "# Maximum frequency\n",
        "max_freq = max(word_freq.values())\n",
        "\n",
        "# Normalize word frequency\n",
        "for word in word_freq.keys():\n",
        "    word_freq[word] = word_freq[word] / max_freq\n",
        "\n",
        "# Sentence scoring\n",
        "sent_scores = {}\n",
        "for sent in doc.sents:\n",
        "    for word in sent:\n",
        "        if word.text.lower() in word_freq.keys():\n",
        "            if sent not in sent_scores.keys():\n",
        "                sent_scores[sent] = word_freq[word.text.lower()]\n",
        "            else:\n",
        "                sent_scores[sent] += word_freq[word.text.lower()]\n",
        "\n",
        "# Selecting the top sentences for summary\n",
        "select_len = int(len(sent_scores) * 0.3)  # Select top 30% of sentences\n",
        "summary = sorted(sent_scores, key=sent_scores.get, reverse=True)[:select_len]\n",
        "\n",
        "# Print the summary\n",
        "final_summary = [sent.text for sent in summary]\n",
        "final_summary = ' '.join(final_summary)\n",
        "\n",
        "print(\"Original text length:\", len(text.split()))\n",
        "print(\"Summary length:\", len(final_summary.split()))\n",
        "print(\"\\nSummary:\\n\", final_summary)"
      ]
    },
    {
      "cell_type": "code",
      "execution_count": null,
      "metadata": {
        "id": "29vAV_ZJjGZH"
      },
      "outputs": [],
      "source": [
        "import requests\n",
        "from bs4 import BeautifulSoup\n",
        "import os.path\n",
        "from dateutil import parser\n",
        "import pandas as pd\n",
        "import numpy as np"
      ]
    },
    {
      "cell_type": "code",
      "execution_count": null,
      "metadata": {
        "id": "lOOFdJTyjOgN"
      },
      "outputs": [],
      "source": [
        "def download_article(url):\n",
        "    # check if article already there\n",
        "    filename = url.split(\"/\")[-1] + \".html\"\n",
        "    filename = f\"{BASE_DIR}/ch09/\" + filename\n",
        "    if not os.path.isfile(filename):\n",
        "        r = requests.get(url)\n",
        "        with open(filename, \"w+\") as f:\n",
        "            f.write(r.text)\n",
        "    return filename"
      ]
    },
    {
      "cell_type": "code",
      "execution_count": null,
      "metadata": {
        "id": "EWkdxkeBjTHQ"
      },
      "outputs": [],
      "source": [
        "def parse_article(article_file):\n",
        "    with open(article_file, \"r\") as f:\n",
        "        html = f.read()\n",
        "    r = {}\n",
        "    soup = BeautifulSoup(html, 'html.parser')\n",
        "    r['id'] = soup.select_one(\"div.StandardArticle_inner-container\")['id']\n",
        "    r['url'] = soup.find(\"link\", {'rel': 'canonical'})['href']\n",
        "    r['headline'] = soup.h1.text\n",
        "    r['section'] = soup.select_one(\"div.ArticleHeader_channel a\").text\n",
        "\n",
        "    r['text'] = soup.select_one(\"div.StandardArticleBody_body\").text\n",
        "    r['authors'] = [a.text\n",
        "                    for a in soup.select(\"div.BylineBar_first-container.ArticleHeader_byline-bar\\\n",
        "                                          div.BylineBar_byline span\")]\n",
        "    r['time'] = soup.find(\"meta\", { 'property': \"og:article:published_time\"})['content']\n",
        "    return r"
      ]
    },
    {
      "cell_type": "code",
      "source": [
        "!pip install gensim\n",
        "!pip install nltk\n"
      ],
      "metadata": {
        "colab": {
          "base_uri": "https://localhost:8080/"
        },
        "id": "5kHtDPPP9U5J",
        "outputId": "73e3c4b2-5409-4698-bedf-a65e074ac5b9"
      },
      "execution_count": null,
      "outputs": [
        {
          "output_type": "stream",
          "name": "stdout",
          "text": [
            "Requirement already satisfied: gensim in /usr/local/lib/python3.10/dist-packages (4.3.2)\n",
            "Requirement already satisfied: numpy>=1.18.5 in /usr/local/lib/python3.10/dist-packages (from gensim) (1.25.2)\n",
            "Requirement already satisfied: scipy>=1.7.0 in /usr/local/lib/python3.10/dist-packages (from gensim) (1.11.4)\n",
            "Requirement already satisfied: smart-open>=1.8.1 in /usr/local/lib/python3.10/dist-packages (from gensim) (6.4.0)\n",
            "Requirement already satisfied: nltk in /usr/local/lib/python3.10/dist-packages (3.8.1)\n",
            "Requirement already satisfied: click in /usr/local/lib/python3.10/dist-packages (from nltk) (8.1.7)\n",
            "Requirement already satisfied: joblib in /usr/local/lib/python3.10/dist-packages (from nltk) (1.4.2)\n",
            "Requirement already satisfied: regex>=2021.8.3 in /usr/local/lib/python3.10/dist-packages (from nltk) (2023.12.25)\n",
            "Requirement already satisfied: tqdm in /usr/local/lib/python3.10/dist-packages (from nltk) (4.66.4)\n"
          ]
        }
      ]
    },
    {
      "cell_type": "code",
      "source": [
        "!pip show gensim\n"
      ],
      "metadata": {
        "colab": {
          "base_uri": "https://localhost:8080/"
        },
        "id": "4U5gBMen-Bde",
        "outputId": "8b7320af-f517-4b95-fad0-efe30c31e236"
      },
      "execution_count": null,
      "outputs": [
        {
          "output_type": "stream",
          "name": "stdout",
          "text": [
            "Name: gensim\n",
            "Version: 4.3.2\n",
            "Summary: Python framework for fast Vector Space Modelling\n",
            "Home-page: https://radimrehurek.com/gensim/\n",
            "Author: Radim Rehurek\n",
            "Author-email: me@radimrehurek.com\n",
            "License: LGPL-2.1-only\n",
            "Location: /usr/local/lib/python3.10/dist-packages\n",
            "Requires: numpy, scipy, smart-open\n",
            "Required-by: \n"
          ]
        }
      ]
    },
    {
      "cell_type": "code",
      "source": [
        "import nltk\n",
        "nltk.download('punkt')\n"
      ],
      "metadata": {
        "colab": {
          "base_uri": "https://localhost:8080/"
        },
        "id": "sMWf0frC9ZTW",
        "outputId": "50de5ab3-597d-48d2-b5bb-ec09715201fe"
      },
      "execution_count": null,
      "outputs": [
        {
          "output_type": "stream",
          "name": "stderr",
          "text": [
            "[nltk_data] Downloading package punkt to /root/nltk_data...\n",
            "[nltk_data]   Package punkt is already up-to-date!\n"
          ]
        },
        {
          "output_type": "execute_result",
          "data": {
            "text/plain": [
              "True"
            ]
          },
          "metadata": {},
          "execution_count": 23
        }
      ]
    },
    {
      "cell_type": "markdown",
      "source": [
        "Abstractive Text Summarization - Transformer Model.ipynb"
      ],
      "metadata": {
        "id": "_Zkor-l0_3o-"
      }
    },
    {
      "cell_type": "code",
      "source": [
        "!pip install transformers==2.8.0\n",
        "!pip install torch==1.4.0"
      ],
      "metadata": {
        "colab": {
          "base_uri": "https://localhost:8080/"
        },
        "id": "Su4CXw2c_5Dl",
        "outputId": "a0cadbaa-6a92-4dbd-ac66-b68a0fb59fa5"
      },
      "execution_count": null,
      "outputs": [
        {
          "output_type": "stream",
          "name": "stdout",
          "text": [
            "Collecting transformers==2.8.0\n",
            "  Downloading transformers-2.8.0-py3-none-any.whl (563 kB)\n",
            "\u001b[?25l     \u001b[90m━━━━━━━━━━━━━━━━━━━━━━━━━━━━━━━━━━━━━━━━\u001b[0m \u001b[32m0.0/563.8 kB\u001b[0m \u001b[31m?\u001b[0m eta \u001b[36m-:--:--\u001b[0m\r\u001b[2K     \u001b[91m━━━━━━━━━━━\u001b[0m\u001b[91m╸\u001b[0m\u001b[90m━━━━━━━━━━━━━━━━━━━━━━━━━━━━\u001b[0m \u001b[32m163.8/563.8 kB\u001b[0m \u001b[31m4.6 MB/s\u001b[0m eta \u001b[36m0:00:01\u001b[0m\r\u001b[2K     \u001b[91m━━━━━━━━━━━━━━━━━━━━━━━━━━━━━━━━━━━━━━━\u001b[0m\u001b[91m╸\u001b[0m \u001b[32m563.2/563.8 kB\u001b[0m \u001b[31m8.4 MB/s\u001b[0m eta \u001b[36m0:00:01\u001b[0m\r\u001b[2K     \u001b[90m━━━━━━━━━━━━━━━━━━━━━━━━━━━━━━━━━━━━━━━━\u001b[0m \u001b[32m563.8/563.8 kB\u001b[0m \u001b[31m7.2 MB/s\u001b[0m eta \u001b[36m0:00:00\u001b[0m\n",
            "\u001b[?25hRequirement already satisfied: numpy in /usr/local/lib/python3.10/dist-packages (from transformers==2.8.0) (1.25.2)\n",
            "Collecting tokenizers==0.5.2 (from transformers==2.8.0)\n",
            "  Downloading tokenizers-0.5.2.tar.gz (64 kB)\n",
            "\u001b[2K     \u001b[90m━━━━━━━━━━━━━━━━━━━━━━━━━━━━━━━━━━━━━━━━\u001b[0m \u001b[32m64.6/64.6 kB\u001b[0m \u001b[31m5.1 MB/s\u001b[0m eta \u001b[36m0:00:00\u001b[0m\n",
            "\u001b[?25h  Installing build dependencies ... \u001b[?25l\u001b[?25hdone\n",
            "  Getting requirements to build wheel ... \u001b[?25l\u001b[?25hdone\n",
            "  Preparing metadata (pyproject.toml) ... \u001b[?25l\u001b[?25hdone\n",
            "Collecting boto3 (from transformers==2.8.0)\n",
            "  Downloading boto3-1.34.102-py3-none-any.whl (139 kB)\n",
            "\u001b[2K     \u001b[90m━━━━━━━━━━━━━━━━━━━━━━━━━━━━━━━━━━━━━━━━\u001b[0m \u001b[32m139.3/139.3 kB\u001b[0m \u001b[31m14.2 MB/s\u001b[0m eta \u001b[36m0:00:00\u001b[0m\n",
            "\u001b[?25hRequirement already satisfied: filelock in /usr/local/lib/python3.10/dist-packages (from transformers==2.8.0) (3.14.0)\n",
            "Requirement already satisfied: requests in /usr/local/lib/python3.10/dist-packages (from transformers==2.8.0) (2.31.0)\n",
            "Requirement already satisfied: tqdm>=4.27 in /usr/local/lib/python3.10/dist-packages (from transformers==2.8.0) (4.66.4)\n",
            "Requirement already satisfied: regex!=2019.12.17 in /usr/local/lib/python3.10/dist-packages (from transformers==2.8.0) (2023.12.25)\n",
            "Requirement already satisfied: sentencepiece in /usr/local/lib/python3.10/dist-packages (from transformers==2.8.0) (0.1.99)\n",
            "Collecting sacremoses (from transformers==2.8.0)\n",
            "  Downloading sacremoses-0.1.1-py3-none-any.whl (897 kB)\n",
            "\u001b[2K     \u001b[90m━━━━━━━━━━━━━━━━━━━━━━━━━━━━━━━━━━━━━━━━\u001b[0m \u001b[32m897.5/897.5 kB\u001b[0m \u001b[31m14.4 MB/s\u001b[0m eta \u001b[36m0:00:00\u001b[0m\n",
            "\u001b[?25hCollecting botocore<1.35.0,>=1.34.102 (from boto3->transformers==2.8.0)\n",
            "  Downloading botocore-1.34.102-py3-none-any.whl (12.2 MB)\n",
            "\u001b[2K     \u001b[90m━━━━━━━━━━━━━━━━━━━━━━━━━━━━━━━━━━━━━━━━\u001b[0m \u001b[32m12.2/12.2 MB\u001b[0m \u001b[31m20.7 MB/s\u001b[0m eta \u001b[36m0:00:00\u001b[0m\n",
            "\u001b[?25hCollecting jmespath<2.0.0,>=0.7.1 (from boto3->transformers==2.8.0)\n",
            "  Downloading jmespath-1.0.1-py3-none-any.whl (20 kB)\n",
            "Collecting s3transfer<0.11.0,>=0.10.0 (from boto3->transformers==2.8.0)\n",
            "  Downloading s3transfer-0.10.1-py3-none-any.whl (82 kB)\n",
            "\u001b[2K     \u001b[90m━━━━━━━━━━━━━━━━━━━━━━━━━━━━━━━━━━━━━━━━\u001b[0m \u001b[32m82.2/82.2 kB\u001b[0m \u001b[31m8.9 MB/s\u001b[0m eta \u001b[36m0:00:00\u001b[0m\n",
            "\u001b[?25hRequirement already satisfied: charset-normalizer<4,>=2 in /usr/local/lib/python3.10/dist-packages (from requests->transformers==2.8.0) (3.3.2)\n",
            "Requirement already satisfied: idna<4,>=2.5 in /usr/local/lib/python3.10/dist-packages (from requests->transformers==2.8.0) (3.7)\n",
            "Requirement already satisfied: urllib3<3,>=1.21.1 in /usr/local/lib/python3.10/dist-packages (from requests->transformers==2.8.0) (2.0.7)\n",
            "Requirement already satisfied: certifi>=2017.4.17 in /usr/local/lib/python3.10/dist-packages (from requests->transformers==2.8.0) (2024.2.2)\n",
            "Requirement already satisfied: click in /usr/local/lib/python3.10/dist-packages (from sacremoses->transformers==2.8.0) (8.1.7)\n",
            "Requirement already satisfied: joblib in /usr/local/lib/python3.10/dist-packages (from sacremoses->transformers==2.8.0) (1.4.2)\n",
            "Requirement already satisfied: python-dateutil<3.0.0,>=2.1 in /usr/local/lib/python3.10/dist-packages (from botocore<1.35.0,>=1.34.102->boto3->transformers==2.8.0) (2.8.2)\n",
            "Requirement already satisfied: six>=1.5 in /usr/local/lib/python3.10/dist-packages (from python-dateutil<3.0.0,>=2.1->botocore<1.35.0,>=1.34.102->boto3->transformers==2.8.0) (1.16.0)\n",
            "Building wheels for collected packages: tokenizers\n",
            "  \u001b[1;31merror\u001b[0m: \u001b[1msubprocess-exited-with-error\u001b[0m\n",
            "  \n",
            "  \u001b[31m×\u001b[0m \u001b[32mBuilding wheel for tokenizers \u001b[0m\u001b[1;32m(\u001b[0m\u001b[32mpyproject.toml\u001b[0m\u001b[1;32m)\u001b[0m did not run successfully.\n",
            "  \u001b[31m│\u001b[0m exit code: \u001b[1;36m1\u001b[0m\n",
            "  \u001b[31m╰─>\u001b[0m See above for output.\n",
            "  \n",
            "  \u001b[1;35mnote\u001b[0m: This error originates from a subprocess, and is likely not a problem with pip.\n",
            "  Building wheel for tokenizers (pyproject.toml) ... \u001b[?25l\u001b[?25herror\n",
            "\u001b[31m  ERROR: Failed building wheel for tokenizers\u001b[0m\u001b[31m\n",
            "\u001b[0mFailed to build tokenizers\n",
            "\u001b[31mERROR: Could not build wheels for tokenizers, which is required to install pyproject.toml-based projects\u001b[0m\u001b[31m\n",
            "\u001b[0m\u001b[31mERROR: Could not find a version that satisfies the requirement torch==1.4.0 (from versions: 1.11.0, 1.12.0, 1.12.1, 1.13.0, 1.13.1, 2.0.0, 2.0.1, 2.1.0, 2.1.1, 2.1.2, 2.2.0, 2.2.1, 2.2.2, 2.3.0)\u001b[0m\u001b[31m\n",
            "\u001b[0m\u001b[31mERROR: No matching distribution found for torch==1.4.0\u001b[0m\u001b[31m\n",
            "\u001b[0m"
          ]
        }
      ]
    },
    {
      "cell_type": "code",
      "source": [
        "import torch\n",
        "from transformers import T5Tokenizer, T5ForConditionalGeneration, T5Config"
      ],
      "metadata": {
        "id": "BlttGa-cAW6p"
      },
      "execution_count": null,
      "outputs": []
    },
    {
      "cell_type": "code",
      "source": [
        "# initialize the pretrained model\n",
        "model = T5ForConditionalGeneration.from_pretrained('t5-small')\n",
        "tokenizer = T5Tokenizer.from_pretrained('t5-small')\n",
        "device = torch.device('cpu')"
      ],
      "metadata": {
        "colab": {
          "base_uri": "https://localhost:8080/",
          "height": 394,
          "referenced_widgets": [
            "9146c6d6cc3c41c1b7dd545373a55d29",
            "2744b527233f46a8ac2d7d91fe2caa88",
            "591e100df7fb409b8ee57b43587a8bed",
            "0ec46112d18f4f609158af65bedfac30",
            "d67de7147fc648cf94fde3378c84eb51",
            "66752e67e0e64d558250b0b69ee5e858",
            "b15f9325fb8f4588b563e7960dba5d3c",
            "7d1ac65b492b47038d9b38b73ec632e7",
            "de19585f57654132a97fe6dba2819874",
            "042e873ae469447e8e7bb363d6315dda",
            "574a46258fbf4e38a469d9f7699ff642",
            "cd8a3e32e13f4c02bf4d0a83bb3cac48",
            "a072538331ae4bfcb6f5047a00167f69",
            "2d6901915724427996b883ffe709583c",
            "2387a9f76174406696bf32bc50041b5a",
            "a46567c8f562411ba5af97b51f8949db",
            "d6b4724be4fe4277b9fcd5f1c12990a0",
            "cdef9e10dad2480fb9173f1a5d72c010",
            "4b3eccf0054742aeac2ecbef47011815",
            "a8da52f6e3b74f76b7e255cd5c7f7e9e",
            "6335092c19694f1ea2b7117fcf9e4ddd",
            "31bae6c123a3454d8eec38f068fa8e8e",
            "b320179231ce4773893d8f58ac41c4ca",
            "3f7206e410b34697b5ea67fce66c1182",
            "70fd289eb01744df929eff01dd60e654",
            "8571fc08373c47b2bdeb61ff25c23a70",
            "ac9c522b96b2457d84228d5b486f3315",
            "f3b851a25d66419d8e071c63b9703089",
            "724d062e5bfc4487aaca89de7c4774a4",
            "0e78606744ec43dcaf30a5ecb5641b34",
            "6a89cd3ef31d48d0b6518c4f922f17d7",
            "dd3e3c9579e1437fa342d5323bd01658",
            "bb40c27af1a44b7f987f3ca3e4fc99e3",
            "2d54486219d34bad96e1abc293099099",
            "46e036c19469423694fcbab8d48e4591",
            "ccae3c0b8e0e463daab60abca0e45c5d",
            "9d5c572c145141fb92288e18442ca12c",
            "0b4496f3c08746eead15e5fcc169d3bd",
            "4497f000869547b5b4ea0d5603084f9c",
            "386621fc1a7040d596cae2359de8e5fd",
            "5cf2944b67cc485099edcf99a30a708e",
            "5e0669e41cac409a96a9c5ddf89d5c56",
            "867b3c25dd2541c09ddbc37527c29a87",
            "a5f0bf04eaf6438cab7a9dd46dd8d017",
            "2fc840ca6a204c20a3d0d276d5358073",
            "1eec5b3b820743ac84cc1f44b67a8c84",
            "015568f860af423da10d8620d73f1a4f",
            "45f39a2c7b2747cca46c43e3b8531864",
            "83206e4b5a794323985158aab90121d9",
            "6337b6cc4e79493e86380831bb05066b",
            "ad99e62b1e454e2ba4e6f6ddeb603195",
            "606c3011f1004e39808fe65681d2a43c",
            "c693ed6cef07433f9d566b3713a701a1",
            "5dfe883016954369b2698d901ae02f8c",
            "bd977b19449e4bd6bbaa5b3794e2857e",
            "f9494039c5734dceb54a09539948ae1c",
            "58ac7316424d4515aa675a6b1f4fda13",
            "b00d80f57b714ceb9913fc6b80d381fe",
            "9b6c504b2b5e4b77954b9d407c407e7b",
            "0ef200eb7c9b425cbcafab588b3e3acf",
            "c62d0805992a450d9b8b90a2d350f4a7",
            "6ca025889d994531a657baaec55989c5",
            "19fa4d1fa95940d3b78d8d1f10733542",
            "958a3d00fe514bee811b437b1a8bf74a",
            "1fd4fc7a61284f5497daa7d5313426b8",
            "860bd9486c4c4fa183dd5a2e47d61421"
          ]
        },
        "id": "pWAs6Qm4BhxE",
        "outputId": "f8c7fb54-7209-40c8-8330-bd9dc2257151"
      },
      "execution_count": null,
      "outputs": [
        {
          "output_type": "stream",
          "name": "stderr",
          "text": [
            "/usr/local/lib/python3.10/dist-packages/huggingface_hub/utils/_token.py:88: UserWarning: \n",
            "The secret `HF_TOKEN` does not exist in your Colab secrets.\n",
            "To authenticate with the Hugging Face Hub, create a token in your settings tab (https://huggingface.co/settings/tokens), set it as secret in your Google Colab and restart your session.\n",
            "You will be able to reuse this secret in all of your notebooks.\n",
            "Please note that authentication is recommended but still optional to access public models or datasets.\n",
            "  warnings.warn(\n"
          ]
        },
        {
          "output_type": "display_data",
          "data": {
            "text/plain": [
              "config.json:   0%|          | 0.00/1.21k [00:00<?, ?B/s]"
            ],
            "application/vnd.jupyter.widget-view+json": {
              "version_major": 2,
              "version_minor": 0,
              "model_id": "9146c6d6cc3c41c1b7dd545373a55d29"
            }
          },
          "metadata": {}
        },
        {
          "output_type": "display_data",
          "data": {
            "text/plain": [
              "model.safetensors:   0%|          | 0.00/242M [00:00<?, ?B/s]"
            ],
            "application/vnd.jupyter.widget-view+json": {
              "version_major": 2,
              "version_minor": 0,
              "model_id": "cd8a3e32e13f4c02bf4d0a83bb3cac48"
            }
          },
          "metadata": {}
        },
        {
          "output_type": "display_data",
          "data": {
            "text/plain": [
              "generation_config.json:   0%|          | 0.00/147 [00:00<?, ?B/s]"
            ],
            "application/vnd.jupyter.widget-view+json": {
              "version_major": 2,
              "version_minor": 0,
              "model_id": "b320179231ce4773893d8f58ac41c4ca"
            }
          },
          "metadata": {}
        },
        {
          "output_type": "display_data",
          "data": {
            "text/plain": [
              "tokenizer_config.json:   0%|          | 0.00/2.32k [00:00<?, ?B/s]"
            ],
            "application/vnd.jupyter.widget-view+json": {
              "version_major": 2,
              "version_minor": 0,
              "model_id": "2d54486219d34bad96e1abc293099099"
            }
          },
          "metadata": {}
        },
        {
          "output_type": "display_data",
          "data": {
            "text/plain": [
              "spiece.model:   0%|          | 0.00/792k [00:00<?, ?B/s]"
            ],
            "application/vnd.jupyter.widget-view+json": {
              "version_major": 2,
              "version_minor": 0,
              "model_id": "2fc840ca6a204c20a3d0d276d5358073"
            }
          },
          "metadata": {}
        },
        {
          "output_type": "display_data",
          "data": {
            "text/plain": [
              "tokenizer.json:   0%|          | 0.00/1.39M [00:00<?, ?B/s]"
            ],
            "application/vnd.jupyter.widget-view+json": {
              "version_major": 2,
              "version_minor": 0,
              "model_id": "f9494039c5734dceb54a09539948ae1c"
            }
          },
          "metadata": {}
        },
        {
          "output_type": "stream",
          "name": "stderr",
          "text": [
            "You are using the default legacy behaviour of the <class 'transformers.models.t5.tokenization_t5.T5Tokenizer'>. This is expected, and simply means that the `legacy` (previous) behavior will be used so nothing changes for you. If you want to use the new behaviour, set `legacy=False`. This should only be set if you understand what it means, and thoroughly read the reason why this was added as explained in https://github.com/huggingface/transformers/pull/24565\n",
            "Special tokens have been added in the vocabulary, make sure the associated word embeddings are fine-tuned or trained.\n"
          ]
        }
      ]
    },
    {
      "cell_type": "code",
      "source": [
        "# input text\n",
        "text = \"\"\"Virat Kohli is an Indian cricketer and former captain of the Indian national team. He is considered one of the best batsmen in the world and holds several records in cricket. He made his international debut in 2008 and has since then represented India in all three formats of the game. He has been a consistent performer for India and has been the backbone of the Indian batting line-up. In 2013, he was appointed as the vice-captain of the ODI team and became the captain of the team in 2017. Under his captaincy, India has reached several milestones including becoming the number-one team in Test cricket and reaching the final of the 2017 ICC Champions Trophy. He has also been honoured with several awards for his performances including the Sir Garfield Sobers Trophy for ICC ODI Player of the Year in 2017 and 2018. He is known for his aggressive captaincy and his never-say-die attitude on the field.\n",
        "\n",
        "\"\"\"\n"
      ],
      "metadata": {
        "id": "8n9-C93OBnqO"
      },
      "execution_count": null,
      "outputs": []
    },
    {
      "cell_type": "code",
      "source": [
        "## preprocess the input text\n",
        "preprocessed_text = text.strip().replace('\\n','')\n",
        "t5_input_text = 'summarize: ' + preprocessed_text"
      ],
      "metadata": {
        "id": "jTcHtBRwBvUW"
      },
      "execution_count": null,
      "outputs": []
    },
    {
      "cell_type": "code",
      "source": [
        "t5_input_text"
      ],
      "metadata": {
        "colab": {
          "base_uri": "https://localhost:8080/",
          "height": 142
        },
        "id": "vELbJc1jBzRd",
        "outputId": "50dd4a6e-7c87-4b41-fa4f-0b24bf6f8895"
      },
      "execution_count": null,
      "outputs": [
        {
          "output_type": "execute_result",
          "data": {
            "text/plain": [
              "'summarize: Virat Kohli is an Indian cricketer and former captain of the Indian national team. He is considered one of the best batsmen in the world and holds several records in cricket. He made his international debut in 2008 and has since then represented India in all three formats of the game. He has been a consistent performer for India and has been the backbone of the Indian batting line-up. In 2013, he was appointed as the vice-captain of the ODI team and became the captain of the team in 2017. Under his captaincy, India has reached several milestones including becoming the number-one team in Test cricket and reaching the final of the 2017 ICC Champions Trophy. He has also been honoured with several awards for his performances including the Sir Garfield Sobers Trophy for ICC ODI Player of the Year in 2017 and 2018. He is known for his aggressive captaincy and his never-say-die attitude on the field.'"
            ],
            "application/vnd.google.colaboratory.intrinsic+json": {
              "type": "string"
            }
          },
          "metadata": {},
          "execution_count": 29
        }
      ]
    },
    {
      "cell_type": "code",
      "source": [
        "len(t5_input_text.split())"
      ],
      "metadata": {
        "colab": {
          "base_uri": "https://localhost:8080/"
        },
        "id": "ugn_lenZCz6-",
        "outputId": "982aa948-4bd4-43c1-b3cd-6403428a9cb3"
      },
      "execution_count": null,
      "outputs": [
        {
          "output_type": "execute_result",
          "data": {
            "text/plain": [
              "159"
            ]
          },
          "metadata": {},
          "execution_count": 31
        }
      ]
    },
    {
      "cell_type": "code",
      "source": [
        "from transformers import T5Tokenizer\n",
        "\n",
        "# Assuming you're using the T5 tokenizer\n",
        "tokenizer = T5Tokenizer.from_pretrained(\"t5-small\")\n",
        "device = \"cuda\" if torch.cuda.is_available() else \"cpu\"  # Checking if GPU is available\n",
        "\n",
        "# Input text\n",
        "t5_input_text = \"Virat Kohli is an Indian cricketer and former captain of the Indian national team. He is considered one of the best batsmen in the world and holds several records in cricket. He made his international debut in 2008 and has since then represented India in all three formats of the game. He has been a consistent performer for India and has been the backbone of the Indian batting line-up. In 2013, he was appointed as the vice-captain of the ODI team and became the captain of the team in 2017.\"\n",
        "\n",
        "# Tokenize the input text\n",
        "tokenized_text = tokenizer.encode(t5_input_text, return_tensors='pt', max_length=160).to(device)\n",
        "\n"
      ],
      "metadata": {
        "colab": {
          "base_uri": "https://localhost:8080/"
        },
        "id": "5WNuUKNFC3nC",
        "outputId": "f54698af-bc33-4916-a8e9-cdba174184df"
      },
      "execution_count": null,
      "outputs": [
        {
          "output_type": "stream",
          "name": "stderr",
          "text": [
            "Special tokens have been added in the vocabulary, make sure the associated word embeddings are fine-tuned or trained.\n",
            "Truncation was not explicitly activated but `max_length` is provided a specific value, please use `truncation=True` to explicitly truncate examples to max length. Defaulting to 'longest_first' truncation strategy. If you encode pairs of sequences (GLUE-style) with the tokenizer you can select this strategy more precisely by providing a specific strategy to `truncation`.\n"
          ]
        }
      ]
    },
    {
      "cell_type": "markdown",
      "source": [
        "Summarize"
      ],
      "metadata": {
        "id": "h_vyu7KjC8bb"
      }
    },
    {
      "cell_type": "code",
      "source": [
        "from transformers import T5ForConditionalGeneration, T5Tokenizer\n",
        "\n",
        "# Initialize the model and tokenizer\n",
        "model = T5ForConditionalGeneration.from_pretrained(\"t5-small\")\n",
        "tokenizer = T5Tokenizer.from_pretrained(\"t5-small\")\n",
        "\n",
        "# Input text\n",
        "t5_input_text = \"Virat Kohli is an Indian cricketer and former captain of the Indian national team. He is considered one of the best batsmen in the world and holds several records in cricket. He made his international debut in 2008 and has since then represented India in all three formats of the game. He has been a consistent performer for India and has been the backbone of the Indian batting line-up. In 2013, he was appointed as the vice-captain of the ODI team and became the captain of the team in 2017. Under his captaincy, India has reached several milestones including becoming the number-one team in Test cricket and reaching the final of the 2017 ICC Champions Trophy. He has also been honoured with several awards for his performances including the Sir Garfield Sobers Trophy for ICC ODI Player of the Year in 2017 and 2018.\"\n",
        "\n",
        "# Tokenize the input text with truncation enabled\n",
        "tokenized_text = tokenizer.encode(t5_input_text, return_tensors='pt', max_length=512, truncation=True)\n",
        "\n",
        "# Generate the summary\n",
        "summary_ids = model.generate(tokenized_text, min_length=30, max_length=120)\n",
        "summary = tokenizer.decode(summary_ids[0], skip_special_tokens=True)\n",
        "\n",
        "# Print the generated summary\n",
        "print(summary)\n",
        "\n"
      ],
      "metadata": {
        "id": "QQwtvbatC9y5",
        "colab": {
          "base_uri": "https://localhost:8080/"
        },
        "outputId": "6d4acd4e-769c-4d38-e360-8ef438517f74"
      },
      "execution_count": null,
      "outputs": [
        {
          "output_type": "stream",
          "name": "stderr",
          "text": [
            "Special tokens have been added in the vocabulary, make sure the associated word embeddings are fine-tuned or trained.\n"
          ]
        },
        {
          "output_type": "stream",
          "name": "stdout",
          "text": [
            "Virat Kohli is an Indian cricketer and former captain of the Indian national team. he made his international debut in 2008 and has represented India in all three formats of the game. he has also been honoured with several awards for his performances including the Sir Garfield Sobers Trophy for ICC ODI Player of the Year in 2017 and 2018.\n"
          ]
        }
      ]
    },
    {
      "cell_type": "code",
      "source": [],
      "metadata": {
        "id": "BYWaIzaDDEda"
      },
      "execution_count": null,
      "outputs": []
    }
  ],
  "metadata": {
    "colab": {
      "provenance": []
    },
    "kernelspec": {
      "display_name": "Python 3",
      "name": "python3"
    },
    "language_info": {
      "name": "python"
    },
    "widgets": {
      "application/vnd.jupyter.widget-state+json": {
        "9146c6d6cc3c41c1b7dd545373a55d29": {
          "model_module": "@jupyter-widgets/controls",
          "model_name": "HBoxModel",
          "model_module_version": "1.5.0",
          "state": {
            "_dom_classes": [],
            "_model_module": "@jupyter-widgets/controls",
            "_model_module_version": "1.5.0",
            "_model_name": "HBoxModel",
            "_view_count": null,
            "_view_module": "@jupyter-widgets/controls",
            "_view_module_version": "1.5.0",
            "_view_name": "HBoxView",
            "box_style": "",
            "children": [
              "IPY_MODEL_2744b527233f46a8ac2d7d91fe2caa88",
              "IPY_MODEL_591e100df7fb409b8ee57b43587a8bed",
              "IPY_MODEL_0ec46112d18f4f609158af65bedfac30"
            ],
            "layout": "IPY_MODEL_d67de7147fc648cf94fde3378c84eb51"
          }
        },
        "2744b527233f46a8ac2d7d91fe2caa88": {
          "model_module": "@jupyter-widgets/controls",
          "model_name": "HTMLModel",
          "model_module_version": "1.5.0",
          "state": {
            "_dom_classes": [],
            "_model_module": "@jupyter-widgets/controls",
            "_model_module_version": "1.5.0",
            "_model_name": "HTMLModel",
            "_view_count": null,
            "_view_module": "@jupyter-widgets/controls",
            "_view_module_version": "1.5.0",
            "_view_name": "HTMLView",
            "description": "",
            "description_tooltip": null,
            "layout": "IPY_MODEL_66752e67e0e64d558250b0b69ee5e858",
            "placeholder": "​",
            "style": "IPY_MODEL_b15f9325fb8f4588b563e7960dba5d3c",
            "value": "config.json: 100%"
          }
        },
        "591e100df7fb409b8ee57b43587a8bed": {
          "model_module": "@jupyter-widgets/controls",
          "model_name": "FloatProgressModel",
          "model_module_version": "1.5.0",
          "state": {
            "_dom_classes": [],
            "_model_module": "@jupyter-widgets/controls",
            "_model_module_version": "1.5.0",
            "_model_name": "FloatProgressModel",
            "_view_count": null,
            "_view_module": "@jupyter-widgets/controls",
            "_view_module_version": "1.5.0",
            "_view_name": "ProgressView",
            "bar_style": "success",
            "description": "",
            "description_tooltip": null,
            "layout": "IPY_MODEL_7d1ac65b492b47038d9b38b73ec632e7",
            "max": 1206,
            "min": 0,
            "orientation": "horizontal",
            "style": "IPY_MODEL_de19585f57654132a97fe6dba2819874",
            "value": 1206
          }
        },
        "0ec46112d18f4f609158af65bedfac30": {
          "model_module": "@jupyter-widgets/controls",
          "model_name": "HTMLModel",
          "model_module_version": "1.5.0",
          "state": {
            "_dom_classes": [],
            "_model_module": "@jupyter-widgets/controls",
            "_model_module_version": "1.5.0",
            "_model_name": "HTMLModel",
            "_view_count": null,
            "_view_module": "@jupyter-widgets/controls",
            "_view_module_version": "1.5.0",
            "_view_name": "HTMLView",
            "description": "",
            "description_tooltip": null,
            "layout": "IPY_MODEL_042e873ae469447e8e7bb363d6315dda",
            "placeholder": "​",
            "style": "IPY_MODEL_574a46258fbf4e38a469d9f7699ff642",
            "value": " 1.21k/1.21k [00:00&lt;00:00, 36.2kB/s]"
          }
        },
        "d67de7147fc648cf94fde3378c84eb51": {
          "model_module": "@jupyter-widgets/base",
          "model_name": "LayoutModel",
          "model_module_version": "1.2.0",
          "state": {
            "_model_module": "@jupyter-widgets/base",
            "_model_module_version": "1.2.0",
            "_model_name": "LayoutModel",
            "_view_count": null,
            "_view_module": "@jupyter-widgets/base",
            "_view_module_version": "1.2.0",
            "_view_name": "LayoutView",
            "align_content": null,
            "align_items": null,
            "align_self": null,
            "border": null,
            "bottom": null,
            "display": null,
            "flex": null,
            "flex_flow": null,
            "grid_area": null,
            "grid_auto_columns": null,
            "grid_auto_flow": null,
            "grid_auto_rows": null,
            "grid_column": null,
            "grid_gap": null,
            "grid_row": null,
            "grid_template_areas": null,
            "grid_template_columns": null,
            "grid_template_rows": null,
            "height": null,
            "justify_content": null,
            "justify_items": null,
            "left": null,
            "margin": null,
            "max_height": null,
            "max_width": null,
            "min_height": null,
            "min_width": null,
            "object_fit": null,
            "object_position": null,
            "order": null,
            "overflow": null,
            "overflow_x": null,
            "overflow_y": null,
            "padding": null,
            "right": null,
            "top": null,
            "visibility": null,
            "width": null
          }
        },
        "66752e67e0e64d558250b0b69ee5e858": {
          "model_module": "@jupyter-widgets/base",
          "model_name": "LayoutModel",
          "model_module_version": "1.2.0",
          "state": {
            "_model_module": "@jupyter-widgets/base",
            "_model_module_version": "1.2.0",
            "_model_name": "LayoutModel",
            "_view_count": null,
            "_view_module": "@jupyter-widgets/base",
            "_view_module_version": "1.2.0",
            "_view_name": "LayoutView",
            "align_content": null,
            "align_items": null,
            "align_self": null,
            "border": null,
            "bottom": null,
            "display": null,
            "flex": null,
            "flex_flow": null,
            "grid_area": null,
            "grid_auto_columns": null,
            "grid_auto_flow": null,
            "grid_auto_rows": null,
            "grid_column": null,
            "grid_gap": null,
            "grid_row": null,
            "grid_template_areas": null,
            "grid_template_columns": null,
            "grid_template_rows": null,
            "height": null,
            "justify_content": null,
            "justify_items": null,
            "left": null,
            "margin": null,
            "max_height": null,
            "max_width": null,
            "min_height": null,
            "min_width": null,
            "object_fit": null,
            "object_position": null,
            "order": null,
            "overflow": null,
            "overflow_x": null,
            "overflow_y": null,
            "padding": null,
            "right": null,
            "top": null,
            "visibility": null,
            "width": null
          }
        },
        "b15f9325fb8f4588b563e7960dba5d3c": {
          "model_module": "@jupyter-widgets/controls",
          "model_name": "DescriptionStyleModel",
          "model_module_version": "1.5.0",
          "state": {
            "_model_module": "@jupyter-widgets/controls",
            "_model_module_version": "1.5.0",
            "_model_name": "DescriptionStyleModel",
            "_view_count": null,
            "_view_module": "@jupyter-widgets/base",
            "_view_module_version": "1.2.0",
            "_view_name": "StyleView",
            "description_width": ""
          }
        },
        "7d1ac65b492b47038d9b38b73ec632e7": {
          "model_module": "@jupyter-widgets/base",
          "model_name": "LayoutModel",
          "model_module_version": "1.2.0",
          "state": {
            "_model_module": "@jupyter-widgets/base",
            "_model_module_version": "1.2.0",
            "_model_name": "LayoutModel",
            "_view_count": null,
            "_view_module": "@jupyter-widgets/base",
            "_view_module_version": "1.2.0",
            "_view_name": "LayoutView",
            "align_content": null,
            "align_items": null,
            "align_self": null,
            "border": null,
            "bottom": null,
            "display": null,
            "flex": null,
            "flex_flow": null,
            "grid_area": null,
            "grid_auto_columns": null,
            "grid_auto_flow": null,
            "grid_auto_rows": null,
            "grid_column": null,
            "grid_gap": null,
            "grid_row": null,
            "grid_template_areas": null,
            "grid_template_columns": null,
            "grid_template_rows": null,
            "height": null,
            "justify_content": null,
            "justify_items": null,
            "left": null,
            "margin": null,
            "max_height": null,
            "max_width": null,
            "min_height": null,
            "min_width": null,
            "object_fit": null,
            "object_position": null,
            "order": null,
            "overflow": null,
            "overflow_x": null,
            "overflow_y": null,
            "padding": null,
            "right": null,
            "top": null,
            "visibility": null,
            "width": null
          }
        },
        "de19585f57654132a97fe6dba2819874": {
          "model_module": "@jupyter-widgets/controls",
          "model_name": "ProgressStyleModel",
          "model_module_version": "1.5.0",
          "state": {
            "_model_module": "@jupyter-widgets/controls",
            "_model_module_version": "1.5.0",
            "_model_name": "ProgressStyleModel",
            "_view_count": null,
            "_view_module": "@jupyter-widgets/base",
            "_view_module_version": "1.2.0",
            "_view_name": "StyleView",
            "bar_color": null,
            "description_width": ""
          }
        },
        "042e873ae469447e8e7bb363d6315dda": {
          "model_module": "@jupyter-widgets/base",
          "model_name": "LayoutModel",
          "model_module_version": "1.2.0",
          "state": {
            "_model_module": "@jupyter-widgets/base",
            "_model_module_version": "1.2.0",
            "_model_name": "LayoutModel",
            "_view_count": null,
            "_view_module": "@jupyter-widgets/base",
            "_view_module_version": "1.2.0",
            "_view_name": "LayoutView",
            "align_content": null,
            "align_items": null,
            "align_self": null,
            "border": null,
            "bottom": null,
            "display": null,
            "flex": null,
            "flex_flow": null,
            "grid_area": null,
            "grid_auto_columns": null,
            "grid_auto_flow": null,
            "grid_auto_rows": null,
            "grid_column": null,
            "grid_gap": null,
            "grid_row": null,
            "grid_template_areas": null,
            "grid_template_columns": null,
            "grid_template_rows": null,
            "height": null,
            "justify_content": null,
            "justify_items": null,
            "left": null,
            "margin": null,
            "max_height": null,
            "max_width": null,
            "min_height": null,
            "min_width": null,
            "object_fit": null,
            "object_position": null,
            "order": null,
            "overflow": null,
            "overflow_x": null,
            "overflow_y": null,
            "padding": null,
            "right": null,
            "top": null,
            "visibility": null,
            "width": null
          }
        },
        "574a46258fbf4e38a469d9f7699ff642": {
          "model_module": "@jupyter-widgets/controls",
          "model_name": "DescriptionStyleModel",
          "model_module_version": "1.5.0",
          "state": {
            "_model_module": "@jupyter-widgets/controls",
            "_model_module_version": "1.5.0",
            "_model_name": "DescriptionStyleModel",
            "_view_count": null,
            "_view_module": "@jupyter-widgets/base",
            "_view_module_version": "1.2.0",
            "_view_name": "StyleView",
            "description_width": ""
          }
        },
        "cd8a3e32e13f4c02bf4d0a83bb3cac48": {
          "model_module": "@jupyter-widgets/controls",
          "model_name": "HBoxModel",
          "model_module_version": "1.5.0",
          "state": {
            "_dom_classes": [],
            "_model_module": "@jupyter-widgets/controls",
            "_model_module_version": "1.5.0",
            "_model_name": "HBoxModel",
            "_view_count": null,
            "_view_module": "@jupyter-widgets/controls",
            "_view_module_version": "1.5.0",
            "_view_name": "HBoxView",
            "box_style": "",
            "children": [
              "IPY_MODEL_a072538331ae4bfcb6f5047a00167f69",
              "IPY_MODEL_2d6901915724427996b883ffe709583c",
              "IPY_MODEL_2387a9f76174406696bf32bc50041b5a"
            ],
            "layout": "IPY_MODEL_a46567c8f562411ba5af97b51f8949db"
          }
        },
        "a072538331ae4bfcb6f5047a00167f69": {
          "model_module": "@jupyter-widgets/controls",
          "model_name": "HTMLModel",
          "model_module_version": "1.5.0",
          "state": {
            "_dom_classes": [],
            "_model_module": "@jupyter-widgets/controls",
            "_model_module_version": "1.5.0",
            "_model_name": "HTMLModel",
            "_view_count": null,
            "_view_module": "@jupyter-widgets/controls",
            "_view_module_version": "1.5.0",
            "_view_name": "HTMLView",
            "description": "",
            "description_tooltip": null,
            "layout": "IPY_MODEL_d6b4724be4fe4277b9fcd5f1c12990a0",
            "placeholder": "​",
            "style": "IPY_MODEL_cdef9e10dad2480fb9173f1a5d72c010",
            "value": "model.safetensors: 100%"
          }
        },
        "2d6901915724427996b883ffe709583c": {
          "model_module": "@jupyter-widgets/controls",
          "model_name": "FloatProgressModel",
          "model_module_version": "1.5.0",
          "state": {
            "_dom_classes": [],
            "_model_module": "@jupyter-widgets/controls",
            "_model_module_version": "1.5.0",
            "_model_name": "FloatProgressModel",
            "_view_count": null,
            "_view_module": "@jupyter-widgets/controls",
            "_view_module_version": "1.5.0",
            "_view_name": "ProgressView",
            "bar_style": "success",
            "description": "",
            "description_tooltip": null,
            "layout": "IPY_MODEL_4b3eccf0054742aeac2ecbef47011815",
            "max": 242043056,
            "min": 0,
            "orientation": "horizontal",
            "style": "IPY_MODEL_a8da52f6e3b74f76b7e255cd5c7f7e9e",
            "value": 242043056
          }
        },
        "2387a9f76174406696bf32bc50041b5a": {
          "model_module": "@jupyter-widgets/controls",
          "model_name": "HTMLModel",
          "model_module_version": "1.5.0",
          "state": {
            "_dom_classes": [],
            "_model_module": "@jupyter-widgets/controls",
            "_model_module_version": "1.5.0",
            "_model_name": "HTMLModel",
            "_view_count": null,
            "_view_module": "@jupyter-widgets/controls",
            "_view_module_version": "1.5.0",
            "_view_name": "HTMLView",
            "description": "",
            "description_tooltip": null,
            "layout": "IPY_MODEL_6335092c19694f1ea2b7117fcf9e4ddd",
            "placeholder": "​",
            "style": "IPY_MODEL_31bae6c123a3454d8eec38f068fa8e8e",
            "value": " 242M/242M [00:02&lt;00:00, 96.9MB/s]"
          }
        },
        "a46567c8f562411ba5af97b51f8949db": {
          "model_module": "@jupyter-widgets/base",
          "model_name": "LayoutModel",
          "model_module_version": "1.2.0",
          "state": {
            "_model_module": "@jupyter-widgets/base",
            "_model_module_version": "1.2.0",
            "_model_name": "LayoutModel",
            "_view_count": null,
            "_view_module": "@jupyter-widgets/base",
            "_view_module_version": "1.2.0",
            "_view_name": "LayoutView",
            "align_content": null,
            "align_items": null,
            "align_self": null,
            "border": null,
            "bottom": null,
            "display": null,
            "flex": null,
            "flex_flow": null,
            "grid_area": null,
            "grid_auto_columns": null,
            "grid_auto_flow": null,
            "grid_auto_rows": null,
            "grid_column": null,
            "grid_gap": null,
            "grid_row": null,
            "grid_template_areas": null,
            "grid_template_columns": null,
            "grid_template_rows": null,
            "height": null,
            "justify_content": null,
            "justify_items": null,
            "left": null,
            "margin": null,
            "max_height": null,
            "max_width": null,
            "min_height": null,
            "min_width": null,
            "object_fit": null,
            "object_position": null,
            "order": null,
            "overflow": null,
            "overflow_x": null,
            "overflow_y": null,
            "padding": null,
            "right": null,
            "top": null,
            "visibility": null,
            "width": null
          }
        },
        "d6b4724be4fe4277b9fcd5f1c12990a0": {
          "model_module": "@jupyter-widgets/base",
          "model_name": "LayoutModel",
          "model_module_version": "1.2.0",
          "state": {
            "_model_module": "@jupyter-widgets/base",
            "_model_module_version": "1.2.0",
            "_model_name": "LayoutModel",
            "_view_count": null,
            "_view_module": "@jupyter-widgets/base",
            "_view_module_version": "1.2.0",
            "_view_name": "LayoutView",
            "align_content": null,
            "align_items": null,
            "align_self": null,
            "border": null,
            "bottom": null,
            "display": null,
            "flex": null,
            "flex_flow": null,
            "grid_area": null,
            "grid_auto_columns": null,
            "grid_auto_flow": null,
            "grid_auto_rows": null,
            "grid_column": null,
            "grid_gap": null,
            "grid_row": null,
            "grid_template_areas": null,
            "grid_template_columns": null,
            "grid_template_rows": null,
            "height": null,
            "justify_content": null,
            "justify_items": null,
            "left": null,
            "margin": null,
            "max_height": null,
            "max_width": null,
            "min_height": null,
            "min_width": null,
            "object_fit": null,
            "object_position": null,
            "order": null,
            "overflow": null,
            "overflow_x": null,
            "overflow_y": null,
            "padding": null,
            "right": null,
            "top": null,
            "visibility": null,
            "width": null
          }
        },
        "cdef9e10dad2480fb9173f1a5d72c010": {
          "model_module": "@jupyter-widgets/controls",
          "model_name": "DescriptionStyleModel",
          "model_module_version": "1.5.0",
          "state": {
            "_model_module": "@jupyter-widgets/controls",
            "_model_module_version": "1.5.0",
            "_model_name": "DescriptionStyleModel",
            "_view_count": null,
            "_view_module": "@jupyter-widgets/base",
            "_view_module_version": "1.2.0",
            "_view_name": "StyleView",
            "description_width": ""
          }
        },
        "4b3eccf0054742aeac2ecbef47011815": {
          "model_module": "@jupyter-widgets/base",
          "model_name": "LayoutModel",
          "model_module_version": "1.2.0",
          "state": {
            "_model_module": "@jupyter-widgets/base",
            "_model_module_version": "1.2.0",
            "_model_name": "LayoutModel",
            "_view_count": null,
            "_view_module": "@jupyter-widgets/base",
            "_view_module_version": "1.2.0",
            "_view_name": "LayoutView",
            "align_content": null,
            "align_items": null,
            "align_self": null,
            "border": null,
            "bottom": null,
            "display": null,
            "flex": null,
            "flex_flow": null,
            "grid_area": null,
            "grid_auto_columns": null,
            "grid_auto_flow": null,
            "grid_auto_rows": null,
            "grid_column": null,
            "grid_gap": null,
            "grid_row": null,
            "grid_template_areas": null,
            "grid_template_columns": null,
            "grid_template_rows": null,
            "height": null,
            "justify_content": null,
            "justify_items": null,
            "left": null,
            "margin": null,
            "max_height": null,
            "max_width": null,
            "min_height": null,
            "min_width": null,
            "object_fit": null,
            "object_position": null,
            "order": null,
            "overflow": null,
            "overflow_x": null,
            "overflow_y": null,
            "padding": null,
            "right": null,
            "top": null,
            "visibility": null,
            "width": null
          }
        },
        "a8da52f6e3b74f76b7e255cd5c7f7e9e": {
          "model_module": "@jupyter-widgets/controls",
          "model_name": "ProgressStyleModel",
          "model_module_version": "1.5.0",
          "state": {
            "_model_module": "@jupyter-widgets/controls",
            "_model_module_version": "1.5.0",
            "_model_name": "ProgressStyleModel",
            "_view_count": null,
            "_view_module": "@jupyter-widgets/base",
            "_view_module_version": "1.2.0",
            "_view_name": "StyleView",
            "bar_color": null,
            "description_width": ""
          }
        },
        "6335092c19694f1ea2b7117fcf9e4ddd": {
          "model_module": "@jupyter-widgets/base",
          "model_name": "LayoutModel",
          "model_module_version": "1.2.0",
          "state": {
            "_model_module": "@jupyter-widgets/base",
            "_model_module_version": "1.2.0",
            "_model_name": "LayoutModel",
            "_view_count": null,
            "_view_module": "@jupyter-widgets/base",
            "_view_module_version": "1.2.0",
            "_view_name": "LayoutView",
            "align_content": null,
            "align_items": null,
            "align_self": null,
            "border": null,
            "bottom": null,
            "display": null,
            "flex": null,
            "flex_flow": null,
            "grid_area": null,
            "grid_auto_columns": null,
            "grid_auto_flow": null,
            "grid_auto_rows": null,
            "grid_column": null,
            "grid_gap": null,
            "grid_row": null,
            "grid_template_areas": null,
            "grid_template_columns": null,
            "grid_template_rows": null,
            "height": null,
            "justify_content": null,
            "justify_items": null,
            "left": null,
            "margin": null,
            "max_height": null,
            "max_width": null,
            "min_height": null,
            "min_width": null,
            "object_fit": null,
            "object_position": null,
            "order": null,
            "overflow": null,
            "overflow_x": null,
            "overflow_y": null,
            "padding": null,
            "right": null,
            "top": null,
            "visibility": null,
            "width": null
          }
        },
        "31bae6c123a3454d8eec38f068fa8e8e": {
          "model_module": "@jupyter-widgets/controls",
          "model_name": "DescriptionStyleModel",
          "model_module_version": "1.5.0",
          "state": {
            "_model_module": "@jupyter-widgets/controls",
            "_model_module_version": "1.5.0",
            "_model_name": "DescriptionStyleModel",
            "_view_count": null,
            "_view_module": "@jupyter-widgets/base",
            "_view_module_version": "1.2.0",
            "_view_name": "StyleView",
            "description_width": ""
          }
        },
        "b320179231ce4773893d8f58ac41c4ca": {
          "model_module": "@jupyter-widgets/controls",
          "model_name": "HBoxModel",
          "model_module_version": "1.5.0",
          "state": {
            "_dom_classes": [],
            "_model_module": "@jupyter-widgets/controls",
            "_model_module_version": "1.5.0",
            "_model_name": "HBoxModel",
            "_view_count": null,
            "_view_module": "@jupyter-widgets/controls",
            "_view_module_version": "1.5.0",
            "_view_name": "HBoxView",
            "box_style": "",
            "children": [
              "IPY_MODEL_3f7206e410b34697b5ea67fce66c1182",
              "IPY_MODEL_70fd289eb01744df929eff01dd60e654",
              "IPY_MODEL_8571fc08373c47b2bdeb61ff25c23a70"
            ],
            "layout": "IPY_MODEL_ac9c522b96b2457d84228d5b486f3315"
          }
        },
        "3f7206e410b34697b5ea67fce66c1182": {
          "model_module": "@jupyter-widgets/controls",
          "model_name": "HTMLModel",
          "model_module_version": "1.5.0",
          "state": {
            "_dom_classes": [],
            "_model_module": "@jupyter-widgets/controls",
            "_model_module_version": "1.5.0",
            "_model_name": "HTMLModel",
            "_view_count": null,
            "_view_module": "@jupyter-widgets/controls",
            "_view_module_version": "1.5.0",
            "_view_name": "HTMLView",
            "description": "",
            "description_tooltip": null,
            "layout": "IPY_MODEL_f3b851a25d66419d8e071c63b9703089",
            "placeholder": "​",
            "style": "IPY_MODEL_724d062e5bfc4487aaca89de7c4774a4",
            "value": "generation_config.json: 100%"
          }
        },
        "70fd289eb01744df929eff01dd60e654": {
          "model_module": "@jupyter-widgets/controls",
          "model_name": "FloatProgressModel",
          "model_module_version": "1.5.0",
          "state": {
            "_dom_classes": [],
            "_model_module": "@jupyter-widgets/controls",
            "_model_module_version": "1.5.0",
            "_model_name": "FloatProgressModel",
            "_view_count": null,
            "_view_module": "@jupyter-widgets/controls",
            "_view_module_version": "1.5.0",
            "_view_name": "ProgressView",
            "bar_style": "success",
            "description": "",
            "description_tooltip": null,
            "layout": "IPY_MODEL_0e78606744ec43dcaf30a5ecb5641b34",
            "max": 147,
            "min": 0,
            "orientation": "horizontal",
            "style": "IPY_MODEL_6a89cd3ef31d48d0b6518c4f922f17d7",
            "value": 147
          }
        },
        "8571fc08373c47b2bdeb61ff25c23a70": {
          "model_module": "@jupyter-widgets/controls",
          "model_name": "HTMLModel",
          "model_module_version": "1.5.0",
          "state": {
            "_dom_classes": [],
            "_model_module": "@jupyter-widgets/controls",
            "_model_module_version": "1.5.0",
            "_model_name": "HTMLModel",
            "_view_count": null,
            "_view_module": "@jupyter-widgets/controls",
            "_view_module_version": "1.5.0",
            "_view_name": "HTMLView",
            "description": "",
            "description_tooltip": null,
            "layout": "IPY_MODEL_dd3e3c9579e1437fa342d5323bd01658",
            "placeholder": "​",
            "style": "IPY_MODEL_bb40c27af1a44b7f987f3ca3e4fc99e3",
            "value": " 147/147 [00:00&lt;00:00, 4.87kB/s]"
          }
        },
        "ac9c522b96b2457d84228d5b486f3315": {
          "model_module": "@jupyter-widgets/base",
          "model_name": "LayoutModel",
          "model_module_version": "1.2.0",
          "state": {
            "_model_module": "@jupyter-widgets/base",
            "_model_module_version": "1.2.0",
            "_model_name": "LayoutModel",
            "_view_count": null,
            "_view_module": "@jupyter-widgets/base",
            "_view_module_version": "1.2.0",
            "_view_name": "LayoutView",
            "align_content": null,
            "align_items": null,
            "align_self": null,
            "border": null,
            "bottom": null,
            "display": null,
            "flex": null,
            "flex_flow": null,
            "grid_area": null,
            "grid_auto_columns": null,
            "grid_auto_flow": null,
            "grid_auto_rows": null,
            "grid_column": null,
            "grid_gap": null,
            "grid_row": null,
            "grid_template_areas": null,
            "grid_template_columns": null,
            "grid_template_rows": null,
            "height": null,
            "justify_content": null,
            "justify_items": null,
            "left": null,
            "margin": null,
            "max_height": null,
            "max_width": null,
            "min_height": null,
            "min_width": null,
            "object_fit": null,
            "object_position": null,
            "order": null,
            "overflow": null,
            "overflow_x": null,
            "overflow_y": null,
            "padding": null,
            "right": null,
            "top": null,
            "visibility": null,
            "width": null
          }
        },
        "f3b851a25d66419d8e071c63b9703089": {
          "model_module": "@jupyter-widgets/base",
          "model_name": "LayoutModel",
          "model_module_version": "1.2.0",
          "state": {
            "_model_module": "@jupyter-widgets/base",
            "_model_module_version": "1.2.0",
            "_model_name": "LayoutModel",
            "_view_count": null,
            "_view_module": "@jupyter-widgets/base",
            "_view_module_version": "1.2.0",
            "_view_name": "LayoutView",
            "align_content": null,
            "align_items": null,
            "align_self": null,
            "border": null,
            "bottom": null,
            "display": null,
            "flex": null,
            "flex_flow": null,
            "grid_area": null,
            "grid_auto_columns": null,
            "grid_auto_flow": null,
            "grid_auto_rows": null,
            "grid_column": null,
            "grid_gap": null,
            "grid_row": null,
            "grid_template_areas": null,
            "grid_template_columns": null,
            "grid_template_rows": null,
            "height": null,
            "justify_content": null,
            "justify_items": null,
            "left": null,
            "margin": null,
            "max_height": null,
            "max_width": null,
            "min_height": null,
            "min_width": null,
            "object_fit": null,
            "object_position": null,
            "order": null,
            "overflow": null,
            "overflow_x": null,
            "overflow_y": null,
            "padding": null,
            "right": null,
            "top": null,
            "visibility": null,
            "width": null
          }
        },
        "724d062e5bfc4487aaca89de7c4774a4": {
          "model_module": "@jupyter-widgets/controls",
          "model_name": "DescriptionStyleModel",
          "model_module_version": "1.5.0",
          "state": {
            "_model_module": "@jupyter-widgets/controls",
            "_model_module_version": "1.5.0",
            "_model_name": "DescriptionStyleModel",
            "_view_count": null,
            "_view_module": "@jupyter-widgets/base",
            "_view_module_version": "1.2.0",
            "_view_name": "StyleView",
            "description_width": ""
          }
        },
        "0e78606744ec43dcaf30a5ecb5641b34": {
          "model_module": "@jupyter-widgets/base",
          "model_name": "LayoutModel",
          "model_module_version": "1.2.0",
          "state": {
            "_model_module": "@jupyter-widgets/base",
            "_model_module_version": "1.2.0",
            "_model_name": "LayoutModel",
            "_view_count": null,
            "_view_module": "@jupyter-widgets/base",
            "_view_module_version": "1.2.0",
            "_view_name": "LayoutView",
            "align_content": null,
            "align_items": null,
            "align_self": null,
            "border": null,
            "bottom": null,
            "display": null,
            "flex": null,
            "flex_flow": null,
            "grid_area": null,
            "grid_auto_columns": null,
            "grid_auto_flow": null,
            "grid_auto_rows": null,
            "grid_column": null,
            "grid_gap": null,
            "grid_row": null,
            "grid_template_areas": null,
            "grid_template_columns": null,
            "grid_template_rows": null,
            "height": null,
            "justify_content": null,
            "justify_items": null,
            "left": null,
            "margin": null,
            "max_height": null,
            "max_width": null,
            "min_height": null,
            "min_width": null,
            "object_fit": null,
            "object_position": null,
            "order": null,
            "overflow": null,
            "overflow_x": null,
            "overflow_y": null,
            "padding": null,
            "right": null,
            "top": null,
            "visibility": null,
            "width": null
          }
        },
        "6a89cd3ef31d48d0b6518c4f922f17d7": {
          "model_module": "@jupyter-widgets/controls",
          "model_name": "ProgressStyleModel",
          "model_module_version": "1.5.0",
          "state": {
            "_model_module": "@jupyter-widgets/controls",
            "_model_module_version": "1.5.0",
            "_model_name": "ProgressStyleModel",
            "_view_count": null,
            "_view_module": "@jupyter-widgets/base",
            "_view_module_version": "1.2.0",
            "_view_name": "StyleView",
            "bar_color": null,
            "description_width": ""
          }
        },
        "dd3e3c9579e1437fa342d5323bd01658": {
          "model_module": "@jupyter-widgets/base",
          "model_name": "LayoutModel",
          "model_module_version": "1.2.0",
          "state": {
            "_model_module": "@jupyter-widgets/base",
            "_model_module_version": "1.2.0",
            "_model_name": "LayoutModel",
            "_view_count": null,
            "_view_module": "@jupyter-widgets/base",
            "_view_module_version": "1.2.0",
            "_view_name": "LayoutView",
            "align_content": null,
            "align_items": null,
            "align_self": null,
            "border": null,
            "bottom": null,
            "display": null,
            "flex": null,
            "flex_flow": null,
            "grid_area": null,
            "grid_auto_columns": null,
            "grid_auto_flow": null,
            "grid_auto_rows": null,
            "grid_column": null,
            "grid_gap": null,
            "grid_row": null,
            "grid_template_areas": null,
            "grid_template_columns": null,
            "grid_template_rows": null,
            "height": null,
            "justify_content": null,
            "justify_items": null,
            "left": null,
            "margin": null,
            "max_height": null,
            "max_width": null,
            "min_height": null,
            "min_width": null,
            "object_fit": null,
            "object_position": null,
            "order": null,
            "overflow": null,
            "overflow_x": null,
            "overflow_y": null,
            "padding": null,
            "right": null,
            "top": null,
            "visibility": null,
            "width": null
          }
        },
        "bb40c27af1a44b7f987f3ca3e4fc99e3": {
          "model_module": "@jupyter-widgets/controls",
          "model_name": "DescriptionStyleModel",
          "model_module_version": "1.5.0",
          "state": {
            "_model_module": "@jupyter-widgets/controls",
            "_model_module_version": "1.5.0",
            "_model_name": "DescriptionStyleModel",
            "_view_count": null,
            "_view_module": "@jupyter-widgets/base",
            "_view_module_version": "1.2.0",
            "_view_name": "StyleView",
            "description_width": ""
          }
        },
        "2d54486219d34bad96e1abc293099099": {
          "model_module": "@jupyter-widgets/controls",
          "model_name": "HBoxModel",
          "model_module_version": "1.5.0",
          "state": {
            "_dom_classes": [],
            "_model_module": "@jupyter-widgets/controls",
            "_model_module_version": "1.5.0",
            "_model_name": "HBoxModel",
            "_view_count": null,
            "_view_module": "@jupyter-widgets/controls",
            "_view_module_version": "1.5.0",
            "_view_name": "HBoxView",
            "box_style": "",
            "children": [
              "IPY_MODEL_46e036c19469423694fcbab8d48e4591",
              "IPY_MODEL_ccae3c0b8e0e463daab60abca0e45c5d",
              "IPY_MODEL_9d5c572c145141fb92288e18442ca12c"
            ],
            "layout": "IPY_MODEL_0b4496f3c08746eead15e5fcc169d3bd"
          }
        },
        "46e036c19469423694fcbab8d48e4591": {
          "model_module": "@jupyter-widgets/controls",
          "model_name": "HTMLModel",
          "model_module_version": "1.5.0",
          "state": {
            "_dom_classes": [],
            "_model_module": "@jupyter-widgets/controls",
            "_model_module_version": "1.5.0",
            "_model_name": "HTMLModel",
            "_view_count": null,
            "_view_module": "@jupyter-widgets/controls",
            "_view_module_version": "1.5.0",
            "_view_name": "HTMLView",
            "description": "",
            "description_tooltip": null,
            "layout": "IPY_MODEL_4497f000869547b5b4ea0d5603084f9c",
            "placeholder": "​",
            "style": "IPY_MODEL_386621fc1a7040d596cae2359de8e5fd",
            "value": "tokenizer_config.json: 100%"
          }
        },
        "ccae3c0b8e0e463daab60abca0e45c5d": {
          "model_module": "@jupyter-widgets/controls",
          "model_name": "FloatProgressModel",
          "model_module_version": "1.5.0",
          "state": {
            "_dom_classes": [],
            "_model_module": "@jupyter-widgets/controls",
            "_model_module_version": "1.5.0",
            "_model_name": "FloatProgressModel",
            "_view_count": null,
            "_view_module": "@jupyter-widgets/controls",
            "_view_module_version": "1.5.0",
            "_view_name": "ProgressView",
            "bar_style": "success",
            "description": "",
            "description_tooltip": null,
            "layout": "IPY_MODEL_5cf2944b67cc485099edcf99a30a708e",
            "max": 2324,
            "min": 0,
            "orientation": "horizontal",
            "style": "IPY_MODEL_5e0669e41cac409a96a9c5ddf89d5c56",
            "value": 2324
          }
        },
        "9d5c572c145141fb92288e18442ca12c": {
          "model_module": "@jupyter-widgets/controls",
          "model_name": "HTMLModel",
          "model_module_version": "1.5.0",
          "state": {
            "_dom_classes": [],
            "_model_module": "@jupyter-widgets/controls",
            "_model_module_version": "1.5.0",
            "_model_name": "HTMLModel",
            "_view_count": null,
            "_view_module": "@jupyter-widgets/controls",
            "_view_module_version": "1.5.0",
            "_view_name": "HTMLView",
            "description": "",
            "description_tooltip": null,
            "layout": "IPY_MODEL_867b3c25dd2541c09ddbc37527c29a87",
            "placeholder": "​",
            "style": "IPY_MODEL_a5f0bf04eaf6438cab7a9dd46dd8d017",
            "value": " 2.32k/2.32k [00:00&lt;00:00, 70.8kB/s]"
          }
        },
        "0b4496f3c08746eead15e5fcc169d3bd": {
          "model_module": "@jupyter-widgets/base",
          "model_name": "LayoutModel",
          "model_module_version": "1.2.0",
          "state": {
            "_model_module": "@jupyter-widgets/base",
            "_model_module_version": "1.2.0",
            "_model_name": "LayoutModel",
            "_view_count": null,
            "_view_module": "@jupyter-widgets/base",
            "_view_module_version": "1.2.0",
            "_view_name": "LayoutView",
            "align_content": null,
            "align_items": null,
            "align_self": null,
            "border": null,
            "bottom": null,
            "display": null,
            "flex": null,
            "flex_flow": null,
            "grid_area": null,
            "grid_auto_columns": null,
            "grid_auto_flow": null,
            "grid_auto_rows": null,
            "grid_column": null,
            "grid_gap": null,
            "grid_row": null,
            "grid_template_areas": null,
            "grid_template_columns": null,
            "grid_template_rows": null,
            "height": null,
            "justify_content": null,
            "justify_items": null,
            "left": null,
            "margin": null,
            "max_height": null,
            "max_width": null,
            "min_height": null,
            "min_width": null,
            "object_fit": null,
            "object_position": null,
            "order": null,
            "overflow": null,
            "overflow_x": null,
            "overflow_y": null,
            "padding": null,
            "right": null,
            "top": null,
            "visibility": null,
            "width": null
          }
        },
        "4497f000869547b5b4ea0d5603084f9c": {
          "model_module": "@jupyter-widgets/base",
          "model_name": "LayoutModel",
          "model_module_version": "1.2.0",
          "state": {
            "_model_module": "@jupyter-widgets/base",
            "_model_module_version": "1.2.0",
            "_model_name": "LayoutModel",
            "_view_count": null,
            "_view_module": "@jupyter-widgets/base",
            "_view_module_version": "1.2.0",
            "_view_name": "LayoutView",
            "align_content": null,
            "align_items": null,
            "align_self": null,
            "border": null,
            "bottom": null,
            "display": null,
            "flex": null,
            "flex_flow": null,
            "grid_area": null,
            "grid_auto_columns": null,
            "grid_auto_flow": null,
            "grid_auto_rows": null,
            "grid_column": null,
            "grid_gap": null,
            "grid_row": null,
            "grid_template_areas": null,
            "grid_template_columns": null,
            "grid_template_rows": null,
            "height": null,
            "justify_content": null,
            "justify_items": null,
            "left": null,
            "margin": null,
            "max_height": null,
            "max_width": null,
            "min_height": null,
            "min_width": null,
            "object_fit": null,
            "object_position": null,
            "order": null,
            "overflow": null,
            "overflow_x": null,
            "overflow_y": null,
            "padding": null,
            "right": null,
            "top": null,
            "visibility": null,
            "width": null
          }
        },
        "386621fc1a7040d596cae2359de8e5fd": {
          "model_module": "@jupyter-widgets/controls",
          "model_name": "DescriptionStyleModel",
          "model_module_version": "1.5.0",
          "state": {
            "_model_module": "@jupyter-widgets/controls",
            "_model_module_version": "1.5.0",
            "_model_name": "DescriptionStyleModel",
            "_view_count": null,
            "_view_module": "@jupyter-widgets/base",
            "_view_module_version": "1.2.0",
            "_view_name": "StyleView",
            "description_width": ""
          }
        },
        "5cf2944b67cc485099edcf99a30a708e": {
          "model_module": "@jupyter-widgets/base",
          "model_name": "LayoutModel",
          "model_module_version": "1.2.0",
          "state": {
            "_model_module": "@jupyter-widgets/base",
            "_model_module_version": "1.2.0",
            "_model_name": "LayoutModel",
            "_view_count": null,
            "_view_module": "@jupyter-widgets/base",
            "_view_module_version": "1.2.0",
            "_view_name": "LayoutView",
            "align_content": null,
            "align_items": null,
            "align_self": null,
            "border": null,
            "bottom": null,
            "display": null,
            "flex": null,
            "flex_flow": null,
            "grid_area": null,
            "grid_auto_columns": null,
            "grid_auto_flow": null,
            "grid_auto_rows": null,
            "grid_column": null,
            "grid_gap": null,
            "grid_row": null,
            "grid_template_areas": null,
            "grid_template_columns": null,
            "grid_template_rows": null,
            "height": null,
            "justify_content": null,
            "justify_items": null,
            "left": null,
            "margin": null,
            "max_height": null,
            "max_width": null,
            "min_height": null,
            "min_width": null,
            "object_fit": null,
            "object_position": null,
            "order": null,
            "overflow": null,
            "overflow_x": null,
            "overflow_y": null,
            "padding": null,
            "right": null,
            "top": null,
            "visibility": null,
            "width": null
          }
        },
        "5e0669e41cac409a96a9c5ddf89d5c56": {
          "model_module": "@jupyter-widgets/controls",
          "model_name": "ProgressStyleModel",
          "model_module_version": "1.5.0",
          "state": {
            "_model_module": "@jupyter-widgets/controls",
            "_model_module_version": "1.5.0",
            "_model_name": "ProgressStyleModel",
            "_view_count": null,
            "_view_module": "@jupyter-widgets/base",
            "_view_module_version": "1.2.0",
            "_view_name": "StyleView",
            "bar_color": null,
            "description_width": ""
          }
        },
        "867b3c25dd2541c09ddbc37527c29a87": {
          "model_module": "@jupyter-widgets/base",
          "model_name": "LayoutModel",
          "model_module_version": "1.2.0",
          "state": {
            "_model_module": "@jupyter-widgets/base",
            "_model_module_version": "1.2.0",
            "_model_name": "LayoutModel",
            "_view_count": null,
            "_view_module": "@jupyter-widgets/base",
            "_view_module_version": "1.2.0",
            "_view_name": "LayoutView",
            "align_content": null,
            "align_items": null,
            "align_self": null,
            "border": null,
            "bottom": null,
            "display": null,
            "flex": null,
            "flex_flow": null,
            "grid_area": null,
            "grid_auto_columns": null,
            "grid_auto_flow": null,
            "grid_auto_rows": null,
            "grid_column": null,
            "grid_gap": null,
            "grid_row": null,
            "grid_template_areas": null,
            "grid_template_columns": null,
            "grid_template_rows": null,
            "height": null,
            "justify_content": null,
            "justify_items": null,
            "left": null,
            "margin": null,
            "max_height": null,
            "max_width": null,
            "min_height": null,
            "min_width": null,
            "object_fit": null,
            "object_position": null,
            "order": null,
            "overflow": null,
            "overflow_x": null,
            "overflow_y": null,
            "padding": null,
            "right": null,
            "top": null,
            "visibility": null,
            "width": null
          }
        },
        "a5f0bf04eaf6438cab7a9dd46dd8d017": {
          "model_module": "@jupyter-widgets/controls",
          "model_name": "DescriptionStyleModel",
          "model_module_version": "1.5.0",
          "state": {
            "_model_module": "@jupyter-widgets/controls",
            "_model_module_version": "1.5.0",
            "_model_name": "DescriptionStyleModel",
            "_view_count": null,
            "_view_module": "@jupyter-widgets/base",
            "_view_module_version": "1.2.0",
            "_view_name": "StyleView",
            "description_width": ""
          }
        },
        "2fc840ca6a204c20a3d0d276d5358073": {
          "model_module": "@jupyter-widgets/controls",
          "model_name": "HBoxModel",
          "model_module_version": "1.5.0",
          "state": {
            "_dom_classes": [],
            "_model_module": "@jupyter-widgets/controls",
            "_model_module_version": "1.5.0",
            "_model_name": "HBoxModel",
            "_view_count": null,
            "_view_module": "@jupyter-widgets/controls",
            "_view_module_version": "1.5.0",
            "_view_name": "HBoxView",
            "box_style": "",
            "children": [
              "IPY_MODEL_1eec5b3b820743ac84cc1f44b67a8c84",
              "IPY_MODEL_015568f860af423da10d8620d73f1a4f",
              "IPY_MODEL_45f39a2c7b2747cca46c43e3b8531864"
            ],
            "layout": "IPY_MODEL_83206e4b5a794323985158aab90121d9"
          }
        },
        "1eec5b3b820743ac84cc1f44b67a8c84": {
          "model_module": "@jupyter-widgets/controls",
          "model_name": "HTMLModel",
          "model_module_version": "1.5.0",
          "state": {
            "_dom_classes": [],
            "_model_module": "@jupyter-widgets/controls",
            "_model_module_version": "1.5.0",
            "_model_name": "HTMLModel",
            "_view_count": null,
            "_view_module": "@jupyter-widgets/controls",
            "_view_module_version": "1.5.0",
            "_view_name": "HTMLView",
            "description": "",
            "description_tooltip": null,
            "layout": "IPY_MODEL_6337b6cc4e79493e86380831bb05066b",
            "placeholder": "​",
            "style": "IPY_MODEL_ad99e62b1e454e2ba4e6f6ddeb603195",
            "value": "spiece.model: 100%"
          }
        },
        "015568f860af423da10d8620d73f1a4f": {
          "model_module": "@jupyter-widgets/controls",
          "model_name": "FloatProgressModel",
          "model_module_version": "1.5.0",
          "state": {
            "_dom_classes": [],
            "_model_module": "@jupyter-widgets/controls",
            "_model_module_version": "1.5.0",
            "_model_name": "FloatProgressModel",
            "_view_count": null,
            "_view_module": "@jupyter-widgets/controls",
            "_view_module_version": "1.5.0",
            "_view_name": "ProgressView",
            "bar_style": "success",
            "description": "",
            "description_tooltip": null,
            "layout": "IPY_MODEL_606c3011f1004e39808fe65681d2a43c",
            "max": 791656,
            "min": 0,
            "orientation": "horizontal",
            "style": "IPY_MODEL_c693ed6cef07433f9d566b3713a701a1",
            "value": 791656
          }
        },
        "45f39a2c7b2747cca46c43e3b8531864": {
          "model_module": "@jupyter-widgets/controls",
          "model_name": "HTMLModel",
          "model_module_version": "1.5.0",
          "state": {
            "_dom_classes": [],
            "_model_module": "@jupyter-widgets/controls",
            "_model_module_version": "1.5.0",
            "_model_name": "HTMLModel",
            "_view_count": null,
            "_view_module": "@jupyter-widgets/controls",
            "_view_module_version": "1.5.0",
            "_view_name": "HTMLView",
            "description": "",
            "description_tooltip": null,
            "layout": "IPY_MODEL_5dfe883016954369b2698d901ae02f8c",
            "placeholder": "​",
            "style": "IPY_MODEL_bd977b19449e4bd6bbaa5b3794e2857e",
            "value": " 792k/792k [00:00&lt;00:00, 6.70MB/s]"
          }
        },
        "83206e4b5a794323985158aab90121d9": {
          "model_module": "@jupyter-widgets/base",
          "model_name": "LayoutModel",
          "model_module_version": "1.2.0",
          "state": {
            "_model_module": "@jupyter-widgets/base",
            "_model_module_version": "1.2.0",
            "_model_name": "LayoutModel",
            "_view_count": null,
            "_view_module": "@jupyter-widgets/base",
            "_view_module_version": "1.2.0",
            "_view_name": "LayoutView",
            "align_content": null,
            "align_items": null,
            "align_self": null,
            "border": null,
            "bottom": null,
            "display": null,
            "flex": null,
            "flex_flow": null,
            "grid_area": null,
            "grid_auto_columns": null,
            "grid_auto_flow": null,
            "grid_auto_rows": null,
            "grid_column": null,
            "grid_gap": null,
            "grid_row": null,
            "grid_template_areas": null,
            "grid_template_columns": null,
            "grid_template_rows": null,
            "height": null,
            "justify_content": null,
            "justify_items": null,
            "left": null,
            "margin": null,
            "max_height": null,
            "max_width": null,
            "min_height": null,
            "min_width": null,
            "object_fit": null,
            "object_position": null,
            "order": null,
            "overflow": null,
            "overflow_x": null,
            "overflow_y": null,
            "padding": null,
            "right": null,
            "top": null,
            "visibility": null,
            "width": null
          }
        },
        "6337b6cc4e79493e86380831bb05066b": {
          "model_module": "@jupyter-widgets/base",
          "model_name": "LayoutModel",
          "model_module_version": "1.2.0",
          "state": {
            "_model_module": "@jupyter-widgets/base",
            "_model_module_version": "1.2.0",
            "_model_name": "LayoutModel",
            "_view_count": null,
            "_view_module": "@jupyter-widgets/base",
            "_view_module_version": "1.2.0",
            "_view_name": "LayoutView",
            "align_content": null,
            "align_items": null,
            "align_self": null,
            "border": null,
            "bottom": null,
            "display": null,
            "flex": null,
            "flex_flow": null,
            "grid_area": null,
            "grid_auto_columns": null,
            "grid_auto_flow": null,
            "grid_auto_rows": null,
            "grid_column": null,
            "grid_gap": null,
            "grid_row": null,
            "grid_template_areas": null,
            "grid_template_columns": null,
            "grid_template_rows": null,
            "height": null,
            "justify_content": null,
            "justify_items": null,
            "left": null,
            "margin": null,
            "max_height": null,
            "max_width": null,
            "min_height": null,
            "min_width": null,
            "object_fit": null,
            "object_position": null,
            "order": null,
            "overflow": null,
            "overflow_x": null,
            "overflow_y": null,
            "padding": null,
            "right": null,
            "top": null,
            "visibility": null,
            "width": null
          }
        },
        "ad99e62b1e454e2ba4e6f6ddeb603195": {
          "model_module": "@jupyter-widgets/controls",
          "model_name": "DescriptionStyleModel",
          "model_module_version": "1.5.0",
          "state": {
            "_model_module": "@jupyter-widgets/controls",
            "_model_module_version": "1.5.0",
            "_model_name": "DescriptionStyleModel",
            "_view_count": null,
            "_view_module": "@jupyter-widgets/base",
            "_view_module_version": "1.2.0",
            "_view_name": "StyleView",
            "description_width": ""
          }
        },
        "606c3011f1004e39808fe65681d2a43c": {
          "model_module": "@jupyter-widgets/base",
          "model_name": "LayoutModel",
          "model_module_version": "1.2.0",
          "state": {
            "_model_module": "@jupyter-widgets/base",
            "_model_module_version": "1.2.0",
            "_model_name": "LayoutModel",
            "_view_count": null,
            "_view_module": "@jupyter-widgets/base",
            "_view_module_version": "1.2.0",
            "_view_name": "LayoutView",
            "align_content": null,
            "align_items": null,
            "align_self": null,
            "border": null,
            "bottom": null,
            "display": null,
            "flex": null,
            "flex_flow": null,
            "grid_area": null,
            "grid_auto_columns": null,
            "grid_auto_flow": null,
            "grid_auto_rows": null,
            "grid_column": null,
            "grid_gap": null,
            "grid_row": null,
            "grid_template_areas": null,
            "grid_template_columns": null,
            "grid_template_rows": null,
            "height": null,
            "justify_content": null,
            "justify_items": null,
            "left": null,
            "margin": null,
            "max_height": null,
            "max_width": null,
            "min_height": null,
            "min_width": null,
            "object_fit": null,
            "object_position": null,
            "order": null,
            "overflow": null,
            "overflow_x": null,
            "overflow_y": null,
            "padding": null,
            "right": null,
            "top": null,
            "visibility": null,
            "width": null
          }
        },
        "c693ed6cef07433f9d566b3713a701a1": {
          "model_module": "@jupyter-widgets/controls",
          "model_name": "ProgressStyleModel",
          "model_module_version": "1.5.0",
          "state": {
            "_model_module": "@jupyter-widgets/controls",
            "_model_module_version": "1.5.0",
            "_model_name": "ProgressStyleModel",
            "_view_count": null,
            "_view_module": "@jupyter-widgets/base",
            "_view_module_version": "1.2.0",
            "_view_name": "StyleView",
            "bar_color": null,
            "description_width": ""
          }
        },
        "5dfe883016954369b2698d901ae02f8c": {
          "model_module": "@jupyter-widgets/base",
          "model_name": "LayoutModel",
          "model_module_version": "1.2.0",
          "state": {
            "_model_module": "@jupyter-widgets/base",
            "_model_module_version": "1.2.0",
            "_model_name": "LayoutModel",
            "_view_count": null,
            "_view_module": "@jupyter-widgets/base",
            "_view_module_version": "1.2.0",
            "_view_name": "LayoutView",
            "align_content": null,
            "align_items": null,
            "align_self": null,
            "border": null,
            "bottom": null,
            "display": null,
            "flex": null,
            "flex_flow": null,
            "grid_area": null,
            "grid_auto_columns": null,
            "grid_auto_flow": null,
            "grid_auto_rows": null,
            "grid_column": null,
            "grid_gap": null,
            "grid_row": null,
            "grid_template_areas": null,
            "grid_template_columns": null,
            "grid_template_rows": null,
            "height": null,
            "justify_content": null,
            "justify_items": null,
            "left": null,
            "margin": null,
            "max_height": null,
            "max_width": null,
            "min_height": null,
            "min_width": null,
            "object_fit": null,
            "object_position": null,
            "order": null,
            "overflow": null,
            "overflow_x": null,
            "overflow_y": null,
            "padding": null,
            "right": null,
            "top": null,
            "visibility": null,
            "width": null
          }
        },
        "bd977b19449e4bd6bbaa5b3794e2857e": {
          "model_module": "@jupyter-widgets/controls",
          "model_name": "DescriptionStyleModel",
          "model_module_version": "1.5.0",
          "state": {
            "_model_module": "@jupyter-widgets/controls",
            "_model_module_version": "1.5.0",
            "_model_name": "DescriptionStyleModel",
            "_view_count": null,
            "_view_module": "@jupyter-widgets/base",
            "_view_module_version": "1.2.0",
            "_view_name": "StyleView",
            "description_width": ""
          }
        },
        "f9494039c5734dceb54a09539948ae1c": {
          "model_module": "@jupyter-widgets/controls",
          "model_name": "HBoxModel",
          "model_module_version": "1.5.0",
          "state": {
            "_dom_classes": [],
            "_model_module": "@jupyter-widgets/controls",
            "_model_module_version": "1.5.0",
            "_model_name": "HBoxModel",
            "_view_count": null,
            "_view_module": "@jupyter-widgets/controls",
            "_view_module_version": "1.5.0",
            "_view_name": "HBoxView",
            "box_style": "",
            "children": [
              "IPY_MODEL_58ac7316424d4515aa675a6b1f4fda13",
              "IPY_MODEL_b00d80f57b714ceb9913fc6b80d381fe",
              "IPY_MODEL_9b6c504b2b5e4b77954b9d407c407e7b"
            ],
            "layout": "IPY_MODEL_0ef200eb7c9b425cbcafab588b3e3acf"
          }
        },
        "58ac7316424d4515aa675a6b1f4fda13": {
          "model_module": "@jupyter-widgets/controls",
          "model_name": "HTMLModel",
          "model_module_version": "1.5.0",
          "state": {
            "_dom_classes": [],
            "_model_module": "@jupyter-widgets/controls",
            "_model_module_version": "1.5.0",
            "_model_name": "HTMLModel",
            "_view_count": null,
            "_view_module": "@jupyter-widgets/controls",
            "_view_module_version": "1.5.0",
            "_view_name": "HTMLView",
            "description": "",
            "description_tooltip": null,
            "layout": "IPY_MODEL_c62d0805992a450d9b8b90a2d350f4a7",
            "placeholder": "​",
            "style": "IPY_MODEL_6ca025889d994531a657baaec55989c5",
            "value": "tokenizer.json: 100%"
          }
        },
        "b00d80f57b714ceb9913fc6b80d381fe": {
          "model_module": "@jupyter-widgets/controls",
          "model_name": "FloatProgressModel",
          "model_module_version": "1.5.0",
          "state": {
            "_dom_classes": [],
            "_model_module": "@jupyter-widgets/controls",
            "_model_module_version": "1.5.0",
            "_model_name": "FloatProgressModel",
            "_view_count": null,
            "_view_module": "@jupyter-widgets/controls",
            "_view_module_version": "1.5.0",
            "_view_name": "ProgressView",
            "bar_style": "success",
            "description": "",
            "description_tooltip": null,
            "layout": "IPY_MODEL_19fa4d1fa95940d3b78d8d1f10733542",
            "max": 1389353,
            "min": 0,
            "orientation": "horizontal",
            "style": "IPY_MODEL_958a3d00fe514bee811b437b1a8bf74a",
            "value": 1389353
          }
        },
        "9b6c504b2b5e4b77954b9d407c407e7b": {
          "model_module": "@jupyter-widgets/controls",
          "model_name": "HTMLModel",
          "model_module_version": "1.5.0",
          "state": {
            "_dom_classes": [],
            "_model_module": "@jupyter-widgets/controls",
            "_model_module_version": "1.5.0",
            "_model_name": "HTMLModel",
            "_view_count": null,
            "_view_module": "@jupyter-widgets/controls",
            "_view_module_version": "1.5.0",
            "_view_name": "HTMLView",
            "description": "",
            "description_tooltip": null,
            "layout": "IPY_MODEL_1fd4fc7a61284f5497daa7d5313426b8",
            "placeholder": "​",
            "style": "IPY_MODEL_860bd9486c4c4fa183dd5a2e47d61421",
            "value": " 1.39M/1.39M [00:00&lt;00:00, 14.7MB/s]"
          }
        },
        "0ef200eb7c9b425cbcafab588b3e3acf": {
          "model_module": "@jupyter-widgets/base",
          "model_name": "LayoutModel",
          "model_module_version": "1.2.0",
          "state": {
            "_model_module": "@jupyter-widgets/base",
            "_model_module_version": "1.2.0",
            "_model_name": "LayoutModel",
            "_view_count": null,
            "_view_module": "@jupyter-widgets/base",
            "_view_module_version": "1.2.0",
            "_view_name": "LayoutView",
            "align_content": null,
            "align_items": null,
            "align_self": null,
            "border": null,
            "bottom": null,
            "display": null,
            "flex": null,
            "flex_flow": null,
            "grid_area": null,
            "grid_auto_columns": null,
            "grid_auto_flow": null,
            "grid_auto_rows": null,
            "grid_column": null,
            "grid_gap": null,
            "grid_row": null,
            "grid_template_areas": null,
            "grid_template_columns": null,
            "grid_template_rows": null,
            "height": null,
            "justify_content": null,
            "justify_items": null,
            "left": null,
            "margin": null,
            "max_height": null,
            "max_width": null,
            "min_height": null,
            "min_width": null,
            "object_fit": null,
            "object_position": null,
            "order": null,
            "overflow": null,
            "overflow_x": null,
            "overflow_y": null,
            "padding": null,
            "right": null,
            "top": null,
            "visibility": null,
            "width": null
          }
        },
        "c62d0805992a450d9b8b90a2d350f4a7": {
          "model_module": "@jupyter-widgets/base",
          "model_name": "LayoutModel",
          "model_module_version": "1.2.0",
          "state": {
            "_model_module": "@jupyter-widgets/base",
            "_model_module_version": "1.2.0",
            "_model_name": "LayoutModel",
            "_view_count": null,
            "_view_module": "@jupyter-widgets/base",
            "_view_module_version": "1.2.0",
            "_view_name": "LayoutView",
            "align_content": null,
            "align_items": null,
            "align_self": null,
            "border": null,
            "bottom": null,
            "display": null,
            "flex": null,
            "flex_flow": null,
            "grid_area": null,
            "grid_auto_columns": null,
            "grid_auto_flow": null,
            "grid_auto_rows": null,
            "grid_column": null,
            "grid_gap": null,
            "grid_row": null,
            "grid_template_areas": null,
            "grid_template_columns": null,
            "grid_template_rows": null,
            "height": null,
            "justify_content": null,
            "justify_items": null,
            "left": null,
            "margin": null,
            "max_height": null,
            "max_width": null,
            "min_height": null,
            "min_width": null,
            "object_fit": null,
            "object_position": null,
            "order": null,
            "overflow": null,
            "overflow_x": null,
            "overflow_y": null,
            "padding": null,
            "right": null,
            "top": null,
            "visibility": null,
            "width": null
          }
        },
        "6ca025889d994531a657baaec55989c5": {
          "model_module": "@jupyter-widgets/controls",
          "model_name": "DescriptionStyleModel",
          "model_module_version": "1.5.0",
          "state": {
            "_model_module": "@jupyter-widgets/controls",
            "_model_module_version": "1.5.0",
            "_model_name": "DescriptionStyleModel",
            "_view_count": null,
            "_view_module": "@jupyter-widgets/base",
            "_view_module_version": "1.2.0",
            "_view_name": "StyleView",
            "description_width": ""
          }
        },
        "19fa4d1fa95940d3b78d8d1f10733542": {
          "model_module": "@jupyter-widgets/base",
          "model_name": "LayoutModel",
          "model_module_version": "1.2.0",
          "state": {
            "_model_module": "@jupyter-widgets/base",
            "_model_module_version": "1.2.0",
            "_model_name": "LayoutModel",
            "_view_count": null,
            "_view_module": "@jupyter-widgets/base",
            "_view_module_version": "1.2.0",
            "_view_name": "LayoutView",
            "align_content": null,
            "align_items": null,
            "align_self": null,
            "border": null,
            "bottom": null,
            "display": null,
            "flex": null,
            "flex_flow": null,
            "grid_area": null,
            "grid_auto_columns": null,
            "grid_auto_flow": null,
            "grid_auto_rows": null,
            "grid_column": null,
            "grid_gap": null,
            "grid_row": null,
            "grid_template_areas": null,
            "grid_template_columns": null,
            "grid_template_rows": null,
            "height": null,
            "justify_content": null,
            "justify_items": null,
            "left": null,
            "margin": null,
            "max_height": null,
            "max_width": null,
            "min_height": null,
            "min_width": null,
            "object_fit": null,
            "object_position": null,
            "order": null,
            "overflow": null,
            "overflow_x": null,
            "overflow_y": null,
            "padding": null,
            "right": null,
            "top": null,
            "visibility": null,
            "width": null
          }
        },
        "958a3d00fe514bee811b437b1a8bf74a": {
          "model_module": "@jupyter-widgets/controls",
          "model_name": "ProgressStyleModel",
          "model_module_version": "1.5.0",
          "state": {
            "_model_module": "@jupyter-widgets/controls",
            "_model_module_version": "1.5.0",
            "_model_name": "ProgressStyleModel",
            "_view_count": null,
            "_view_module": "@jupyter-widgets/base",
            "_view_module_version": "1.2.0",
            "_view_name": "StyleView",
            "bar_color": null,
            "description_width": ""
          }
        },
        "1fd4fc7a61284f5497daa7d5313426b8": {
          "model_module": "@jupyter-widgets/base",
          "model_name": "LayoutModel",
          "model_module_version": "1.2.0",
          "state": {
            "_model_module": "@jupyter-widgets/base",
            "_model_module_version": "1.2.0",
            "_model_name": "LayoutModel",
            "_view_count": null,
            "_view_module": "@jupyter-widgets/base",
            "_view_module_version": "1.2.0",
            "_view_name": "LayoutView",
            "align_content": null,
            "align_items": null,
            "align_self": null,
            "border": null,
            "bottom": null,
            "display": null,
            "flex": null,
            "flex_flow": null,
            "grid_area": null,
            "grid_auto_columns": null,
            "grid_auto_flow": null,
            "grid_auto_rows": null,
            "grid_column": null,
            "grid_gap": null,
            "grid_row": null,
            "grid_template_areas": null,
            "grid_template_columns": null,
            "grid_template_rows": null,
            "height": null,
            "justify_content": null,
            "justify_items": null,
            "left": null,
            "margin": null,
            "max_height": null,
            "max_width": null,
            "min_height": null,
            "min_width": null,
            "object_fit": null,
            "object_position": null,
            "order": null,
            "overflow": null,
            "overflow_x": null,
            "overflow_y": null,
            "padding": null,
            "right": null,
            "top": null,
            "visibility": null,
            "width": null
          }
        },
        "860bd9486c4c4fa183dd5a2e47d61421": {
          "model_module": "@jupyter-widgets/controls",
          "model_name": "DescriptionStyleModel",
          "model_module_version": "1.5.0",
          "state": {
            "_model_module": "@jupyter-widgets/controls",
            "_model_module_version": "1.5.0",
            "_model_name": "DescriptionStyleModel",
            "_view_count": null,
            "_view_module": "@jupyter-widgets/base",
            "_view_module_version": "1.2.0",
            "_view_name": "StyleView",
            "description_width": ""
          }
        }
      }
    }
  },
  "nbformat": 4,
  "nbformat_minor": 0
}